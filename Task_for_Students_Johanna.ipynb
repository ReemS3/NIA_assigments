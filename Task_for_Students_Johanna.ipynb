{
 "cells": [
  {
   "cell_type": "markdown",
   "metadata": {
    "pycharm": {
     "name": "#%% md\n"
    }
   },
   "source": [
    "# Using Genetic Algorithms to Form Optimal Groups"
   ]
  },
  {
   "cell_type": "markdown",
   "metadata": {
    "pycharm": {
     "name": "#%% md\n"
    }
   },
   "source": [
    "We have all been in that situation. You have to do a group project in a class, and the lecturer assigns the groups randomly. You find yourself in a group with people you don’t know and end up doing all the work by yourself. We want to change that and want you to implement an Genetic Algorithm that optimizes groups.\n"
   ]
  },
  {
   "cell_type": "markdown",
   "metadata": {
    "pycharm": {
     "name": "#%% md\n"
    }
   },
   "source": [
    "## Task 1:\n"
   ]
  },
  {
   "cell_type": "markdown",
   "metadata": {
    "pycharm": {
     "name": "#%% md\n"
    }
   },
   "source": [
    "You have to implement the initial population, crossover, mutation, and fitness function. We divided it into smaller subtasks for you and implemented some of the functions for you. If you want to do your own implementation, feel free to ignore our hints and functions.\n",
    "\n",
    "Your initial population consists of 50 group distributions, where 100 students are assigned to 20 groups. Each student has a Student ID, a name, their spoken language, their 2 Majors (we assume everyone is doing their Masters), their ambition in the course, their preferred meeting place, their personality type, their gender, a friend that they want to be in a group with, and their preferred meeting day.\n",
    "\n",
    "To get you even more involved with the task, we want every member of your group to add their own person into the data. To do so, you simply have to execute the Jupyter Notebook named \"Dataset_Input.ipynb\". We are using the Myers-Briggs personality, which may not be the most scientific, but it for sure is entertaining. If you don’t know your type, you can take the test here (approx. 10 minutes) https://www.16personalities.com/free-personality-test. "
   ]
  },
  {
   "cell_type": "markdown",
   "metadata": {
    "pycharm": {
     "name": "#%% md\n"
    }
   },
   "source": [
    "Run this cell to load the packages:"
   ]
  },
  {
   "cell_type": "code",
   "execution_count": 141,
   "metadata": {
    "pycharm": {
     "name": "#%%\n"
    }
   },
   "outputs": [],
   "source": [
    "import numpy as np\n",
    "import random\n",
    "import pandas as pd\n",
    "import matplotlib.pyplot as plt\n",
    "import ipywidgets\n",
    "import IPython\n",
    "from Generator import DataGenerator\n",
    "from typing import List"
   ]
  },
  {
   "cell_type": "markdown",
   "metadata": {
    "pycharm": {
     "name": "#%% md\n"
    }
   },
   "source": [
    "Execute this cell to create the dataset:"
   ]
  },
  {
   "cell_type": "code",
   "execution_count": 142,
   "metadata": {
    "pycharm": {
     "name": "#%%\n"
    }
   },
   "outputs": [
    {
     "name": "stdout",
     "output_type": "stream",
     "text": [
      "Please provide the number of participants: \n",
      "Please provide an integer value!\n",
      "\n",
      "Please provide the number of participants: \n",
      "Please provide an integer value!\n",
      "\n",
      "Please provide the number of participants: \n",
      "Please provide an integer value!\n",
      "\n",
      "Please provide the number of participants: 100\n"
     ]
    }
   ],
   "source": [
    "generator = DataGenerator()\n",
    "\n",
    "#df, type_ = generator.create_basic()\n",
    "\n",
    "df, type_ = generator.create_full()\n",
    "\n",
    "df.to_csv(\"dataset_\" + type_ + \".csv\", encoding=\"utf-8-sig\", index=False)"
   ]
  },
  {
   "cell_type": "markdown",
   "metadata": {
    "pycharm": {
     "name": "#%% md\n"
    }
   },
   "source": [
    "Hyperparameters:"
   ]
  },
  {
   "cell_type": "code",
   "execution_count": 187,
   "metadata": {
    "pycharm": {
     "name": "#%%\n"
    }
   },
   "outputs": [
    {
     "data": {
      "text/html": [
       "<div>\n",
       "<style scoped>\n",
       "    .dataframe tbody tr th:only-of-type {\n",
       "        vertical-align: middle;\n",
       "    }\n",
       "\n",
       "    .dataframe tbody tr th {\n",
       "        vertical-align: top;\n",
       "    }\n",
       "\n",
       "    .dataframe thead th {\n",
       "        text-align: right;\n",
       "    }\n",
       "</style>\n",
       "<table border=\"1\" class=\"dataframe\">\n",
       "  <thead>\n",
       "    <tr style=\"text-align: right;\">\n",
       "      <th></th>\n",
       "      <th>ID</th>\n",
       "      <th>Name</th>\n",
       "      <th>Gender</th>\n",
       "      <th>Preferred language</th>\n",
       "      <th>Majors</th>\n",
       "      <th>Level of ambition</th>\n",
       "      <th>Preferred meeting place</th>\n",
       "      <th>Personality type</th>\n",
       "      <th>Best friend</th>\n",
       "      <th>Preferred day</th>\n",
       "    </tr>\n",
       "  </thead>\n",
       "  <tbody>\n",
       "    <tr>\n",
       "      <th>0</th>\n",
       "      <td>1</td>\n",
       "      <td>Florian Schäfer</td>\n",
       "      <td>Male</td>\n",
       "      <td>Any</td>\n",
       "      <td>('NS', 'NI')</td>\n",
       "      <td>Low</td>\n",
       "      <td>In person</td>\n",
       "      <td>INFP</td>\n",
       "      <td>Marco Richter</td>\n",
       "      <td>Thursday</td>\n",
       "    </tr>\n",
       "    <tr>\n",
       "      <th>1</th>\n",
       "      <td>2</td>\n",
       "      <td>Christin Schmidt</td>\n",
       "      <td>Female</td>\n",
       "      <td>Any</td>\n",
       "      <td>('NS', 'PHIL')</td>\n",
       "      <td>Very high</td>\n",
       "      <td>In person</td>\n",
       "      <td>ESFJ</td>\n",
       "      <td>Sandra Bar</td>\n",
       "      <td>Thursday</td>\n",
       "    </tr>\n",
       "    <tr>\n",
       "      <th>2</th>\n",
       "      <td>3</td>\n",
       "      <td>Ralf Frei</td>\n",
       "      <td>Male</td>\n",
       "      <td>German</td>\n",
       "      <td>('AI', 'NI')</td>\n",
       "      <td>Medium</td>\n",
       "      <td>In person</td>\n",
       "      <td>ESFJ</td>\n",
       "      <td>Leonie Meyer</td>\n",
       "      <td>Tuesday</td>\n",
       "    </tr>\n",
       "    <tr>\n",
       "      <th>3</th>\n",
       "      <td>4</td>\n",
       "      <td>Jessika Bergmann</td>\n",
       "      <td>Female</td>\n",
       "      <td>Any</td>\n",
       "      <td>('NS', 'NI')</td>\n",
       "      <td>Very high</td>\n",
       "      <td>In person</td>\n",
       "      <td>INTJ</td>\n",
       "      <td>Dirk Gersten</td>\n",
       "      <td>Friday</td>\n",
       "    </tr>\n",
       "    <tr>\n",
       "      <th>4</th>\n",
       "      <td>5</td>\n",
       "      <td>Kathrin Frueh</td>\n",
       "      <td>Female</td>\n",
       "      <td>Any</td>\n",
       "      <td>('NI', 'NS')</td>\n",
       "      <td>Low</td>\n",
       "      <td>Online</td>\n",
       "      <td>ENFJ</td>\n",
       "      <td>Lisa Kruger</td>\n",
       "      <td>Tuesday</td>\n",
       "    </tr>\n",
       "    <tr>\n",
       "      <th>...</th>\n",
       "      <td>...</td>\n",
       "      <td>...</td>\n",
       "      <td>...</td>\n",
       "      <td>...</td>\n",
       "      <td>...</td>\n",
       "      <td>...</td>\n",
       "      <td>...</td>\n",
       "      <td>...</td>\n",
       "      <td>...</td>\n",
       "      <td>...</td>\n",
       "    </tr>\n",
       "    <tr>\n",
       "      <th>95</th>\n",
       "      <td>96</td>\n",
       "      <td>Thorsten Baier</td>\n",
       "      <td>Male</td>\n",
       "      <td>Any</td>\n",
       "      <td>('CL', 'NS')</td>\n",
       "      <td>Very high</td>\n",
       "      <td>In person</td>\n",
       "      <td>ENTP</td>\n",
       "      <td>Torsten Kastner</td>\n",
       "      <td>Friday</td>\n",
       "    </tr>\n",
       "    <tr>\n",
       "      <th>96</th>\n",
       "      <td>97</td>\n",
       "      <td>Marcel Lang</td>\n",
       "      <td>Male</td>\n",
       "      <td>Any</td>\n",
       "      <td>('NI', 'CL')</td>\n",
       "      <td>High</td>\n",
       "      <td>In person</td>\n",
       "      <td>ESFJ</td>\n",
       "      <td>Maik Wulf</td>\n",
       "      <td>Thursday</td>\n",
       "    </tr>\n",
       "    <tr>\n",
       "      <th>97</th>\n",
       "      <td>98</td>\n",
       "      <td>Sabrina Brandt</td>\n",
       "      <td>Female</td>\n",
       "      <td>Any</td>\n",
       "      <td>('AI', 'NS')</td>\n",
       "      <td>Very high</td>\n",
       "      <td>Online</td>\n",
       "      <td>INTJ</td>\n",
       "      <td>Jürgen Rothstein</td>\n",
       "      <td>Wednesday</td>\n",
       "    </tr>\n",
       "    <tr>\n",
       "      <th>98</th>\n",
       "      <td>99</td>\n",
       "      <td>Melanie Hirsch</td>\n",
       "      <td>Female</td>\n",
       "      <td>English</td>\n",
       "      <td>('NS', 'NI')</td>\n",
       "      <td>Very high</td>\n",
       "      <td>In person</td>\n",
       "      <td>ISFP</td>\n",
       "      <td>Martin Pfeifer</td>\n",
       "      <td>Wednesday</td>\n",
       "    </tr>\n",
       "    <tr>\n",
       "      <th>99</th>\n",
       "      <td>100</td>\n",
       "      <td>Diana Ehrlichmann</td>\n",
       "      <td>Female</td>\n",
       "      <td>Any</td>\n",
       "      <td>('CP', 'CL')</td>\n",
       "      <td>Medium</td>\n",
       "      <td>In person</td>\n",
       "      <td>ESFJ</td>\n",
       "      <td>Sophie Abendroth</td>\n",
       "      <td>Thursday</td>\n",
       "    </tr>\n",
       "  </tbody>\n",
       "</table>\n",
       "<p>100 rows × 10 columns</p>\n",
       "</div>"
      ],
      "text/plain": [
       "     ID               Name  Gender Preferred language          Majors  \\\n",
       "0     1    Florian Schäfer    Male                Any    ('NS', 'NI')   \n",
       "1     2   Christin Schmidt  Female                Any  ('NS', 'PHIL')   \n",
       "2     3          Ralf Frei    Male             German    ('AI', 'NI')   \n",
       "3     4   Jessika Bergmann  Female                Any    ('NS', 'NI')   \n",
       "4     5      Kathrin Frueh  Female                Any    ('NI', 'NS')   \n",
       "..  ...                ...     ...                ...             ...   \n",
       "95   96     Thorsten Baier    Male                Any    ('CL', 'NS')   \n",
       "96   97        Marcel Lang    Male                Any    ('NI', 'CL')   \n",
       "97   98     Sabrina Brandt  Female                Any    ('AI', 'NS')   \n",
       "98   99     Melanie Hirsch  Female            English    ('NS', 'NI')   \n",
       "99  100  Diana Ehrlichmann  Female                Any    ('CP', 'CL')   \n",
       "\n",
       "   Level of ambition Preferred meeting place Personality type  \\\n",
       "0                Low               In person             INFP   \n",
       "1          Very high               In person             ESFJ   \n",
       "2             Medium               In person             ESFJ   \n",
       "3          Very high               In person             INTJ   \n",
       "4                Low                  Online             ENFJ   \n",
       "..               ...                     ...              ...   \n",
       "95         Very high               In person             ENTP   \n",
       "96              High               In person             ESFJ   \n",
       "97         Very high                  Online             INTJ   \n",
       "98         Very high               In person             ISFP   \n",
       "99            Medium               In person             ESFJ   \n",
       "\n",
       "         Best friend Preferred day  \n",
       "0      Marco Richter      Thursday  \n",
       "1         Sandra Bar      Thursday  \n",
       "2       Leonie Meyer       Tuesday  \n",
       "3       Dirk Gersten        Friday  \n",
       "4        Lisa Kruger       Tuesday  \n",
       "..               ...           ...  \n",
       "95   Torsten Kastner        Friday  \n",
       "96         Maik Wulf      Thursday  \n",
       "97  Jürgen Rothstein     Wednesday  \n",
       "98    Martin Pfeifer     Wednesday  \n",
       "99  Sophie Abendroth      Thursday  \n",
       "\n",
       "[100 rows x 10 columns]"
      ]
     },
     "execution_count": 187,
     "metadata": {},
     "output_type": "execute_result"
    }
   ],
   "source": [
    "students: pd.DataFrame = pd.read_csv(\"dataset_full.csv\")\n",
    "student_ids: List[int] = students.ID.tolist()\n",
    "\n",
    "# hyperparameters\n",
    "num_individuals: int = 100\n",
    "groupsize: int = 5\n",
    "# between 0 and 1\n",
    "mutation_rate: float = 0.05\n",
    "\n",
    "students"
   ]
  },
  {
   "cell_type": "markdown",
   "metadata": {
    "pycharm": {
     "name": "#%% md\n"
    }
   },
   "source": [
    "We create one random individual:"
   ]
  },
  {
   "cell_type": "code",
   "execution_count": 188,
   "metadata": {
    "pycharm": {
     "name": "#%%\n"
    }
   },
   "outputs": [
    {
     "name": "stdout",
     "output_type": "stream",
     "text": [
      "[28, 47, 65, 80, 6, 85, 23, 4, 29, 39, 48, 2, 60, 53, 46, 84, 81, 68, 90, 12, 98, 5, 36, 26, 96, 44, 37, 38, 17, 95, 67, 88, 3, 83, 15, 77, 86, 22, 19, 100, 18, 42, 10, 34, 14, 50, 72, 99, 27, 30, 8, 1, 89, 25, 21, 70, 43, 61, 33, 58, 71, 94, 75, 62, 40, 16, 92, 31, 35, 45, 66, 82, 13, 49, 97, 93, 7, 32, 20, 56, 52, 74, 91, 76, 73, 63, 87, 24, 59, 55, 78, 54, 41, 51, 69, 64, 79, 11, 9, 57]\n"
     ]
    }
   ],
   "source": [
    "def create_random_individual(student_ids: List[int]) -> List[int]:\n",
    "    #You don't need to do anything here.\n",
    "\n",
    "    individual = student_ids.copy()\n",
    "    random.shuffle(individual)\n",
    "\n",
    "    return individual\n",
    "\n",
    "print(create_random_individual(student_ids))"
   ]
  },
  {
   "cell_type": "markdown",
   "metadata": {
    "pycharm": {
     "name": "#%% md\n"
    }
   },
   "source": [
    "\n",
    "\n",
    "Create the initial population of 50 (=num_individuals) individuals:\n"
   ]
  },
  {
   "cell_type": "code",
   "execution_count": 189,
   "metadata": {
    "pycharm": {
     "name": "#%%\n"
    }
   },
   "outputs": [],
   "source": [
    "def create_initial_population(student_ids: List[int], num_individuals: int) -> np.ndarray:\n",
    "    \n",
    "    #should return a numpy array of the whole population\n",
    "    \n",
    "    return np.array([create_random_individual(student_ids) for _ in range(num_individuals)])"
   ]
  },
  {
   "cell_type": "markdown",
   "metadata": {
    "pycharm": {
     "name": "#%% md\n"
    }
   },
   "source": [
    "We need a fitness function that computes how good the group distribution is. You have to take into consideration that we have many parameters that are not equally important and should therefore be differently weighted. We already coded some of the specific evaluation functions for the parameters for you. You have to implement the remaining evaluation functions. Think about what is desirable to have in a group and how you can calculate it. For example, you might have to change the data type of a parameter to make meaningful calculatons.\n",
    "\n",
    "At the end, you have to weigh all evaluation functions in one fitness function. "
   ]
  },
  {
   "cell_type": "code",
   "execution_count": 146,
   "metadata": {
    "pycharm": {
     "name": "#%%\n"
    }
   },
   "outputs": [],
   "source": [
    "def evaluate_language(group: pd.DataFrame) -> float:\n",
    "    \"\"\"\n",
    "    Idea: A goo combination is when people within a group can understand each other. Once there are people that can only \n",
    "    speak either German or English, this is not the case anymore.\n",
    "    Returns 0 if there are clashing languages, 5 otherwise \n",
    "    \"\"\"\n",
    "    # Extract the preferred languages of the group members\n",
    "    language_occurences = group['Preferred language'].value_counts()\n",
    "    \n",
    "    # If both English and German are in the preferred language, the group combination is bad\n",
    "    if 'English' in language_occurences.keys() and 'German' in language_occurences.keys():\n",
    "        return 0\n",
    "    else:\n",
    "        return 5"
   ]
  },
  {
   "cell_type": "code",
   "execution_count": 147,
   "metadata": {
    "pycharm": {
     "name": "#%%\n"
    }
   },
   "outputs": [],
   "source": [
    "\n",
    "def evaluate_majors(group: pd.DataFrame) -> float:\n",
    "    \"\"\"\n",
    "    Idea: There are 7 possible majors in total - if everyone is doing the same majors they have similar interests which \n",
    "    could be beneficial in group work. Arguably, it could also be benefitial to have people with various interests which \n",
    "    is not reflected in this solution.\n",
    "    \"\"\"\n",
    "    # First, create a list of all majors (the strings in the df first have to be preprocessed to extract the majors from it)\n",
    "    all_majors = []\n",
    "    remove_chars = ')(\\' '\n",
    "    for majors in group['Majors'].tolist():\n",
    "        for char in remove_chars:\n",
    "            majors = majors.replace(char, '')\n",
    "        all_majors.append(majors.split(','))\n",
    "    \n",
    "    # Extract the majors that occur within the group\n",
    "    reshaped_all_majors = np.unique(np.array(all_majors).reshape((-1)))\n",
    "    \n",
    "    return 2. / len(reshaped_all_majors) # Highest fitness score if all members have the same majors\n"
   ]
  },
  {
   "cell_type": "code",
   "execution_count": 148,
   "metadata": {
    "pycharm": {
     "name": "#%%\n"
    }
   },
   "outputs": [],
   "source": [
    "\n",
    "def evaluate_ambition(group: pd.DataFrame) -> float:\n",
    "    \"\"\"\n",
    "    Idea: The higher the overall ambition within a group, the better since then the project gets done\n",
    "    Returns the sum over the mappings from low ambition, or 0, to high ambition, or 4.\n",
    "    \"\"\"\n",
    "    \n",
    "    # Arguably, it could also be nice to have people with similar ambition so noone gets disappointed. \n",
    "    # However, a group project with many people without ambition could fail as well.\n",
    "    \n",
    "    # Map ambitions to ineger from 0-4\n",
    "    ambitions = ['Very low', 'Low', 'Medium', 'High', 'Very high']\n",
    "    ambition_mappings = np.arange(5)\n",
    "    for ambition, mapping in zip(ambitions, ambition_mappings):\n",
    "        group = group.replace(ambition, mapping)\n",
    "    \n",
    "    # Return the sum over the ambitions normalized with the maximally possible ambition level (16) but multiply \n",
    "    # with 5 as a weighting factor since ambition could be important\n",
    "    return group['Level of ambition'].sum() / 16. * 5\n"
   ]
  },
  {
   "cell_type": "code",
   "execution_count": 149,
   "metadata": {
    "pycharm": {
     "name": "#%%\n"
    }
   },
   "outputs": [],
   "source": [
    "\n",
    "def evaluate_meeting_place(group: pd.DataFrame) -> float:\n",
    "    #You don't need to code anything in here.\n",
    "    #This is an example evaluation function.\n",
    "    \n",
    "    # number of groupmembers for each preferred meeting place\n",
    "    meeting_place = group['Preferred meeting place'].value_counts()\n",
    "\n",
    "    # if all prefer the same meeting place return 5, else 0\n",
    "    if meeting_place[0] == groupsize:\n",
    "        return 5\n",
    "\n",
    "    return 0"
   ]
  },
  {
   "cell_type": "code",
   "execution_count": 150,
   "metadata": {
    "pycharm": {
     "name": "#%%\n"
    }
   },
   "outputs": [],
   "source": [
    "def evaluate_gender(group: pd.DataFrame) -> float:\n",
    "    \"\"\"\n",
    "    Idea: the genders of group members is irrelevant to the sucess of group work\n",
    "    \"\"\"\n",
    "    return 1"
   ]
  },
  {
   "cell_type": "code",
   "execution_count": 151,
   "metadata": {
    "pycharm": {
     "name": "#%%\n"
    }
   },
   "outputs": [],
   "source": [
    "def evaluate_friends(group: pd.DataFrame) -> float:\n",
    "    \"\"\"\n",
    "    Idea: It is good when friends are in the same group since they already know each other which could ease communication.\n",
    "    \"\"\"\n",
    "    \n",
    "    group_members = np.array(group['Name'])\n",
    "    group_member_friends = np.array(group['Best friend'])\n",
    "    \n",
    "    number_friends = np.sum(np.array([1 for group_member in group_members if group_member in group_member_friends]))\n",
    "    \n",
    "    return number_friends"
   ]
  },
  {
   "cell_type": "code",
   "execution_count": 152,
   "metadata": {
    "pycharm": {
     "name": "#%%\n"
    }
   },
   "outputs": [],
   "source": [
    "def evaluate_personality(group: pd.DataFrame) -> float:\n",
    "    #You dont need to change anything in here \n",
    "\n",
    "    #information about compatible personality types is taken from\n",
    "    # Montequín, Vicente Rodríguez, et al. \"Using Myers-Briggs type indicator (MBTI) as a tool for setting up student teams for information technology projects.\" Journal of Information Technology and Application in Education 1.1 (2012): 28-34.\n",
    "\n",
    "    #count existing personality types in each group\n",
    "    personalities = group['Personality type']\n",
    "    types = personalities.value_counts()\n",
    "\n",
    "    #fitness function starts with 0 and gets better\n",
    "    # with every good group member\n",
    "    fitness = 0\n",
    "\n",
    "    #its good if there is a group leader like an ISTJ or an ESTJ, but only one\n",
    "    try:\n",
    "        if (types['ISTJ'] + types['ESTJ'] == 1):\n",
    "            fitness+=5\n",
    "        elif (types['ISTJ'] + types['ESTJ'] >= 2):\n",
    "            fitness-=5\n",
    "    except KeyError:\n",
    "        pass\n",
    "\n",
    "    #compare compatibility of group members\n",
    "    for i, personality_a in enumerate(personalities.tolist()):\n",
    "        for j, personality_b in enumerate(personalities.tolist()):\n",
    "            # skip same group member and members already compared\n",
    "            if i <= j:\n",
    "                continue\n",
    "\n",
    "            # increase fitness if\n",
    "            if (personality_a[1] != personality_b[1]) ^ (personality_a[2] != personality_b[2]):\n",
    "                if (personality_a[0] != personality_b[0]) or (personality_a[3] != personality_b[3]):\n",
    "                    fitness+=1\n",
    "\n",
    "    return fitness"
   ]
  },
  {
   "cell_type": "code",
   "execution_count": 153,
   "metadata": {
    "pycharm": {
     "name": "#%%\n"
    }
   },
   "outputs": [],
   "source": [
    "def evaluate_meeting_day(group: pd.DataFrame) -> float:\n",
    "    \"\"\"\n",
    "    Idea: It is good if many people have the same preferred meeting day.\n",
    "    Returns the highest number of agreement on the meeting day.\n",
    "    \"\"\"\n",
    "    \n",
    "    return group['Preferred day'].value_counts()[0] # Automatically sorts in descending order, so simply take the first one"
   ]
  },
  {
   "cell_type": "markdown",
   "metadata": {
    "pycharm": {
     "name": "#%% md\n"
    }
   },
   "source": [
    "And now put everything together.\n",
    "The function is almost done, but remember to add the weights.\n",
    "\n",
    "In case you want to add hard constraints, feel free to do that in this function.\n",
    "\n"
   ]
  },
  {
   "cell_type": "code",
   "execution_count": 154,
   "metadata": {
    "pycharm": {
     "name": "#%%\n"
    }
   },
   "outputs": [],
   "source": [
    "def evaluate_fitness(individual: np.ndarray, students: pd.DataFrame):\n",
    "    # split individual into student groups of the groupsize\n",
    "    groups = np.array_split(individual, (len(individual)/groupsize))\n",
    "\n",
    "    # iterate over groups and calculate scores for the different parameters\n",
    "    scores = []\n",
    "    for group_ids in groups:\n",
    "        # get full data for students in this group from pd dataframe\n",
    "        group = students.loc[students['ID'].isin(group_ids)]\n",
    "\n",
    "        # get individual scores for parameters\n",
    "        language_score = evaluate_language(group)\n",
    "        major_score = evaluate_majors(group)\n",
    "        ambition_score = evaluate_ambition(group)\n",
    "        place_score = evaluate_meeting_place(group)\n",
    "        gender_score = evaluate_gender(group)\n",
    "        friend_score = evaluate_friends(group)\n",
    "        personality_score = evaluate_personality(group)\n",
    "        day_score = evaluate_meeting_day(group)\n",
    "\n",
    "        # formula for adding and weighting different scores\n",
    "        scores.append(language_score+major_score+ambition_score+place_score+gender_score+friend_score+personality_score+day_score)\n",
    "\n",
    "    #Convert to series to calculate mean more easily\n",
    "    return pd.Series(scores).mean()\n",
    "    "
   ]
  },
  {
   "cell_type": "code",
   "execution_count": 155,
   "metadata": {},
   "outputs": [
    {
     "data": {
      "text/plain": [
       "15.557708333333327"
      ]
     },
     "execution_count": 155,
     "metadata": {},
     "output_type": "execute_result"
    }
   ],
   "source": [
    "evaluate_fitness(create_random_individual(student_ids), students)"
   ]
  },
  {
   "cell_type": "markdown",
   "metadata": {
    "pycharm": {
     "name": "#%% md\n"
    }
   },
   "source": [
    "Now, you have to code a crossover function, which takes 2 individuals based on their fitness function and produces a child from them. Use the tournament selection for parent selection.\n",
    "For the crossover, we want you to use the uniform crossover function with random templates. "
   ]
  },
  {
   "cell_type": "code",
   "execution_count": 249,
   "metadata": {},
   "outputs": [],
   "source": [
    "def tournament_selection(population: np.ndarray, tournament_size: int) -> List[np.ndarray]:\n",
    "    \"\"\"\n",
    "    Selects tournament_size-many contestants and returns the contestant with the maximal fitness score.\n",
    "    \"\"\"\n",
    "    \n",
    "    # Get tournament_size-many random individuals from the population\n",
    "    np.random.shuffle(population)\n",
    "    tournament_contestants = population[:tournament_size]\n",
    "\n",
    "    # Get the fitnesses of the contestants\n",
    "    candidate_fitnesses = np.array([evaluate_fitness(individual, students) for individual in tournament_contestants])\n",
    "    \n",
    "    # Get and return the highest scoring individuum\n",
    "    max_fitness = np.argmax(candidate_fitnesses)\n",
    "    winner = tournament_contestants[max_fitness]\n",
    "    return np.array(winner)"
   ]
  },
  {
   "cell_type": "markdown",
   "metadata": {
    "pycharm": {
     "name": "#%% md\n"
    }
   },
   "source": [
    "Use a boolean template in the length of the individual, this can be hardcoded or generated randomly every time to add more variance. On the places where the template is true use the genes from parent1, then take all the genes from parent2 that are not used and add them to the empty places in the child in the same order as they appear on parent2"
   ]
  },
  {
   "cell_type": "code",
   "execution_count": 239,
   "metadata": {},
   "outputs": [],
   "source": [
    "def uniform_order_crossover(parent1: np.ndarray, parent2: np.ndarray, template: np.ndarray) -> np.ndarray:\n",
    "    \"\"\"\n",
    "    Performs uniform oder crossover to create one child from two parents. Assigns the values from parent 1 based where the \n",
    "    template is true and fills the open spaces with the leftover people in the order of parent 2.\n",
    "    \"\"\"\n",
    "    \n",
    "    child = np.zeros_like(parent1)\n",
    "    \n",
    "    # Assign the values at the fixed positions given through the template\n",
    "    child[template] = parent1[template]\n",
    "    \n",
    "    # Exchange the leftover spaces in child (indicated by zero) with the leftover people in the order of the other parent\n",
    "    child[child == 0] = [x for x in parent2 if x in np.delete(parent1, np.where(child))]\n",
    "    \n",
    "    return np.array(child)"
   ]
  },
  {
   "cell_type": "markdown",
   "metadata": {
    "pycharm": {
     "name": "#%% md\n"
    }
   },
   "source": [
    "The last thing you need is the mutation function. It should take the individual produced by the crossover function and mutate it with a chance of for example 5%. A mutation switches the assigned groups of 2 people. "
   ]
  },
  {
   "cell_type": "code",
   "execution_count": 240,
   "metadata": {
    "pycharm": {
     "name": "#%%\n"
    }
   },
   "outputs": [],
   "source": [
    "def mutation(individual: np.ndarray, mutation_rate: float) -> np.ndarray:\n",
    "    \"\"\"\n",
    "    Mutates an individual with a probability of the mutation_rate. If the individual is mutated, two people from different groups \n",
    "    are swapped.\n",
    "    \"\"\"\n",
    "    \n",
    "    # With the probability of the mutation rate, get two people in individual and swap them\n",
    "    if random.random() < mutation_rate:\n",
    "        \n",
    "        # Get into two different groups and then select a random position within those groups respectively\n",
    "        rand_group = random.sample(range(0, len(individual)-1, groupsize), 2)\n",
    "        i1, i2 = rand_group[0] + random.randint(0, groupsize-1), rand_group[1] + random.randint(0, groupsize-1)\n",
    "        \n",
    "        # Swap the individuals\n",
    "        individual[i1], individual[i2] = individual[i2], individual[i1]\n",
    "    \n",
    "    return individual"
   ]
  },
  {
   "cell_type": "markdown",
   "metadata": {
    "pycharm": {
     "name": "#%% md\n"
    }
   },
   "source": [
    "You can now execute the code below and see if everything is working."
   ]
  },
  {
   "cell_type": "code",
   "execution_count": 241,
   "metadata": {},
   "outputs": [],
   "source": [
    "def get_n_worst_individuals(population, population_fitnesses, n):\n",
    "    \"\"\"\n",
    "    Returns the indices of the n worst individuals in a population.\n",
    "    \"\"\"\n",
    "    orig_population_fitnesses = population_fitnesses.copy()\n",
    "    \n",
    "    # Get the indices of the n worst individuals of the population\n",
    "    population_fitnesses.sort()\n",
    "    idx_remove = []\n",
    "    for fitness in population_fitnesses[:n]:\n",
    "        idx_remove.append(np.where(orig_population_fitnesses == fitness)[0][0]) # index with 0 to only take one if multiple individuals have the same fitness\n",
    "    \n",
    "    return np.array(idx_remove).reshape(n)"
   ]
  },
  {
   "cell_type": "code",
   "execution_count": 244,
   "metadata": {
    "pycharm": {
     "name": "#%%\n"
    }
   },
   "outputs": [],
   "source": [
    "#episodes is the number of episodes after the algorithm stops\n",
    "#num_replace is the number of unfit individuals that will be replaced\n",
    "def genetic_algorithm(episodes: int, num_replace: int) -> np.ndarray:\n",
    "    \"\"\"\n",
    "    Performs the genetic algorithm: In each iteration, it replaces the num_replace-many worst individuals with\n",
    "    newly created individuals based on the winners of the tournament selection.\n",
    "    \"\"\"\n",
    "    \n",
    "    # Create an initial population of 50 individuals\n",
    "    population = create_initial_population(list(students['ID']), 50)\n",
    "    \n",
    "    mean_fitness_progress = []\n",
    "    \n",
    "    for episode in range(episodes): # episode = generation\n",
    "        \n",
    "        counter = 0\n",
    "        \n",
    "        # Calculate the fitnesses of the individuals in the population\n",
    "        fitnesses = np.array([evaluate_fitness(individual, students) for individual in population])\n",
    "        \n",
    "        # Remove the num_replace-many worst individuals from the population and the determined fitness scores\n",
    "        idx_2be_removed = get_n_worst_individuals(population, fitnesses, num_replace)\n",
    "        population = np.delete(population, idx_2be_removed, axis=0)\n",
    "        fitnesses = np.delete(fitnesses, idx_2be_removed, axis=0)\n",
    "        \n",
    "        # Refill the population until it meets the original size with one new child at a time\n",
    "        while counter < num_replace:\n",
    "            \n",
    "            # Select parents through tournament selection\n",
    "            parent1, parent2 = tournament_selection(population, 16), tournament_selection(population, 16)\n",
    "            \n",
    "            # Determine child via crossover\n",
    "            child = uniform_order_crossover(parent1, parent2, template=np.random.choice(a=[True, False], size=(len(parent1))))\n",
    "            \n",
    "            # Mutate the child with a probabilit of the mutation rate 0.05 and append it to the population and its fitness\n",
    "            # to the fitnesses\n",
    "            child = mutation(child, 0.05)\n",
    "            population = np.append(population, [list(child)], axis=0)\n",
    "            fitnesses = np.append(fitnesses, evaluate_fitness(child, students))\n",
    "            \n",
    "            counter += 1\n",
    "        \n",
    "        # Evaluate mean fitness of the population and print information for progress tracking\n",
    "        mean_fitness = np.mean(fitnesses)\n",
    "        mean_fitness_progress.append(mean_fitness)\n",
    "        print('Episode: ', episode, '- Mean fitness score: ', mean_fitness)\n",
    "            \n",
    "    # Plot the mean fitnesses in the end to make progress visible\n",
    "    plt.plot(np.arange(episodes), mean_fitness_progress, color='orange')\n",
    "    plt.show()"
   ]
  },
  {
   "cell_type": "code",
   "execution_count": 245,
   "metadata": {},
   "outputs": [
    {
     "name": "stdout",
     "output_type": "stream",
     "text": [
      "Episode:  0 - Mean fitness score:  15.982074999999995\n",
      "Episode:  1 - Mean fitness score:  16.061441666666664\n",
      "Episode:  2 - Mean fitness score:  16.111008333333327\n",
      "Episode:  3 - Mean fitness score:  16.148441666666663\n",
      "Episode:  4 - Mean fitness score:  16.155641666666664\n",
      "Episode:  5 - Mean fitness score:  16.24410833333333\n",
      "Episode:  6 - Mean fitness score:  16.265541666666664\n",
      "Episode:  7 - Mean fitness score:  16.328874999999996\n",
      "Episode:  8 - Mean fitness score:  16.34434166666666\n",
      "Episode:  9 - Mean fitness score:  16.44844166666666\n",
      "Episode:  10 - Mean fitness score:  16.51210833333333\n",
      "Episode:  11 - Mean fitness score:  16.56100833333333\n",
      "Episode:  12 - Mean fitness score:  16.667008333333328\n",
      "Episode:  13 - Mean fitness score:  16.728374999999996\n",
      "Episode:  14 - Mean fitness score:  16.800541666666664\n",
      "Episode:  15 - Mean fitness score:  16.840175\n",
      "Episode:  16 - Mean fitness score:  16.924908333333335\n",
      "Episode:  17 - Mean fitness score:  16.967475\n",
      "Episode:  18 - Mean fitness score:  17.020541666666663\n",
      "Episode:  19 - Mean fitness score:  17.09420833333333\n",
      "Episode:  20 - Mean fitness score:  17.131308333333333\n",
      "Episode:  21 - Mean fitness score:  17.152575\n",
      "Episode:  22 - Mean fitness score:  17.206141666666667\n",
      "Episode:  23 - Mean fitness score:  17.269474999999996\n",
      "Episode:  24 - Mean fitness score:  17.29910833333333\n",
      "Episode:  25 - Mean fitness score:  17.35040833333333\n",
      "Episode:  26 - Mean fitness score:  17.37874166666666\n",
      "Episode:  27 - Mean fitness score:  17.433774999999997\n",
      "Episode:  28 - Mean fitness score:  17.48414166666666\n",
      "Episode:  29 - Mean fitness score:  17.508074999999995\n",
      "Episode:  30 - Mean fitness score:  17.538274999999995\n",
      "Episode:  31 - Mean fitness score:  17.56966911764705\n",
      "Episode:  32 - Mean fitness score:  17.597806372549016\n",
      "Episode:  33 - Mean fitness score:  17.616490384615375\n",
      "Episode:  34 - Mean fitness score:  17.631544811320747\n",
      "Episode:  35 - Mean fitness score:  17.64539351851851\n",
      "Episode:  36 - Mean fitness score:  17.651405303030295\n",
      "Episode:  37 - Mean fitness score:  17.664132575757566\n",
      "Episode:  38 - Mean fitness score:  17.677708333333324\n",
      "Episode:  39 - Mean fitness score:  17.684077380952377\n",
      "Episode:  40 - Mean fitness score:  17.689199561403505\n",
      "Episode:  41 - Mean fitness score:  17.694145114942522\n",
      "Episode:  42 - Mean fitness score:  17.698923022598866\n",
      "Episode:  43 - Mean fitness score:  17.703541666666663\n",
      "Episode:  44 - Mean fitness score:  17.70800887978142\n",
      "Episode:  45 - Mean fitness score:  17.71233198924731\n",
      "Episode:  46 - Mean fitness score:  17.716517857142858\n",
      "Episode:  47 - Mean fitness score:  17.72057291666666\n",
      "Episode:  48 - Mean fitness score:  17.724503205128197\n",
      "Episode:  49 - Mean fitness score:  17.72831439393939\n",
      "Episode:  50 - Mean fitness score:  17.732011815920394\n",
      "Episode:  51 - Mean fitness score:  17.735600490196077\n",
      "Episode:  52 - Mean fitness score:  17.739085144927536\n",
      "Episode:  53 - Mean fitness score:  17.742470238095237\n",
      "Episode:  54 - Mean fitness score:  17.745759976525825\n",
      "Episode:  55 - Mean fitness score:  17.74895833333333\n",
      "Episode:  56 - Mean fitness score:  17.752069063926935\n",
      "Episode:  57 - Mean fitness score:  17.751041666666662\n",
      "Episode:  58 - Mean fitness score:  17.751041666666662\n",
      "Episode:  59 - Mean fitness score:  17.758041666666664\n",
      "Episode:  60 - Mean fitness score:  17.758322368421048\n",
      "Episode:  61 - Mean fitness score:  17.761149891774892\n",
      "Episode:  62 - Mean fitness score:  17.763904914529913\n",
      "Episode:  63 - Mean fitness score:  17.765915084388183\n",
      "Episode:  64 - Mean fitness score:  17.76844672995781\n",
      "Episode:  65 - Mean fitness score:  17.773467827004218\n",
      "Episode:  66 - Mean fitness score:  17.77604166666666\n",
      "Episode:  67 - Mean fitness score:  17.77665895061728\n",
      "Episode:  68 - Mean fitness score:  17.77665142276422\n",
      "Episode:  69 - Mean fitness score:  17.776644076305217\n",
      "Episode:  70 - Mean fitness score:  17.7766369047619\n",
      "Episode:  71 - Mean fitness score:  17.7772181372549\n",
      "Episode:  72 - Mean fitness score:  17.764316860465115\n",
      "Episode:  73 - Mean fitness score:  17.777204457364338\n",
      "Episode:  74 - Mean fitness score:  17.764451628352486\n",
      "Episode:  75 - Mean fitness score:  17.76387691570881\n",
      "Episode:  76 - Mean fitness score:  17.777746212121205\n",
      "Episode:  77 - Mean fitness score:  17.772258895131078\n",
      "Episode:  78 - Mean fitness score:  17.765330056179767\n",
      "Episode:  79 - Mean fitness score:  17.775442415730332\n",
      "Episode:  80 - Mean fitness score:  17.778288857677897\n",
      "Episode:  81 - Mean fitness score:  17.779374999999995\n",
      "Episode:  82 - Mean fitness score:  17.7677999084249\n",
      "Episode:  83 - Mean fitness score:  17.780437271062265\n",
      "Episode:  84 - Mean fitness score:  17.78147644927536\n",
      "Episode:  85 - Mean fitness score:  17.782493279569888\n",
      "Episode:  86 - Mean fitness score:  17.7834884751773\n",
      "Episode:  87 - Mean fitness score:  17.784462719298244\n",
      "Episode:  88 - Mean fitness score:  17.785416666666663\n",
      "Episode:  89 - Mean fitness score:  17.786350945017176\n",
      "Episode:  90 - Mean fitness score:  17.787266156462582\n",
      "Episode:  91 - Mean fitness score:  17.788162878787876\n",
      "Episode:  92 - Mean fitness score:  17.789041666666662\n",
      "Episode:  93 - Mean fitness score:  17.78990305280528\n",
      "Episode:  94 - Mean fitness score:  17.790747549019606\n",
      "Episode:  95 - Mean fitness score:  17.79157564724919\n",
      "Episode:  96 - Mean fitness score:  17.792387820512815\n",
      "Episode:  97 - Mean fitness score:  17.793184523809522\n",
      "Episode:  98 - Mean fitness score:  17.79396619496855\n",
      "Episode:  99 - Mean fitness score:  17.79473325545171\n"
     ]
    },
    {
     "data": {
      "image/png": "[encoded data removed]",
      "text/plain": [
       "<Figure size 432x288 with 1 Axes>"
      ]
     },
     "metadata": {
      "needs_background": "light"
     },
     "output_type": "display_data"
    }
   ],
   "source": [
    "population = genetic_algorithm(100,2)"
   ]
  },
  {
   "cell_type": "markdown",
   "metadata": {
    "pycharm": {
     "name": "#%% md\n"
    }
   },
   "source": [
    "### Let's find your group or the one of a friend"
   ]
  },
  {
   "cell_type": "code",
   "execution_count": 246,
   "metadata": {
    "pycharm": {
     "name": "#%%\n"
    }
   },
   "outputs": [],
   "source": [
    "def get_groups_from_individual(individual: np.ndarray) -> List[np.ndarray]:\n",
    "    \"\"\" Returns a Python List of all Groups in an individual(as numpy ndarrays) \"\"\"\n",
    "    groups = pd.DataFrame()\n",
    "    for i in individual:\n",
    "        groups = pd.concat([groups, students.loc[students['ID'] == i]])\n",
    "\n",
    "    groups = groups.reset_index(drop=True)\n",
    "    nested_groups_list = []\n",
    "    for n,j in enumerate(range(0, len(groups), groupsize)):\n",
    "        nested_groups_list.append(pd.DataFrame(groups[j:j+groupsize]))\n",
    "    return nested_groups_list\n",
    "\n",
    "def get_groups_by_person_fullname(fullname: str, individual: np.ndarray) -> List[np.ndarray]:\n",
    "    \"\"\" Returns all Groups that got a Person with $fullname$ in given $individual$\"\"\"\n",
    "    nested_groups_list = get_groups_from_individual(individual)\n",
    "\n",
    "    groups_with_person = []\n",
    "    for group in nested_groups_list:\n",
    "        if fullname in group[\"Name\"].values:\n",
    "            groups_with_person.append(group)\n",
    "    return groups_with_person\n",
    "\n",
    "def get_group_by_person_ID(ID: int, individual: np.ndarray) -> np.ndarray:\n",
    "    \"\"\" Returns Group that has Person with given $ID$ in given $individual$\"\"\"\n",
    "    nested_groups_list = get_groups_from_individual(individual)\n",
    "    groups_with_person = []\n",
    "    for group in nested_groups_list:\n",
    "        if ID in group[\"ID\"].values:\n",
    "            return group\n",
    "    return None"
   ]
  },
  {
   "cell_type": "markdown",
   "metadata": {
    "pycharm": {
     "name": "#%% md\n"
    }
   },
   "source": [
    "\n",
    "#### Find your group by your Fullname"
   ]
  },
  {
   "cell_type": "code",
   "execution_count": 248,
   "metadata": {
    "pycharm": {
     "name": "#%%\n"
    }
   },
   "outputs": [
    {
     "name": "stdout",
     "output_type": "stream",
     "text": [
      "Please the Full-Name you want to look up: Christin Schmidt\n",
      "[    ID               Name  Gender Preferred language          Majors  \\\n",
      "55   2   Christin Schmidt  Female                Any  ('NS', 'PHIL')   \n",
      "56  71      Dennis Probst    Male                Any    ('AI', 'CP')   \n",
      "57  65  Diana Schuhmacher  Female                Any    ('AI', 'NI')   \n",
      "58  40   Jürgen Rothstein    Male                Any    ('NS', 'NI')   \n",
      "59  24     Martin Pfeifer    Male                Any    ('CL', 'CP')   \n",
      "\n",
      "   Level of ambition Preferred meeting place Personality type  \\\n",
      "55         Very high               In person             ESFJ   \n",
      "56              High               In person             INFP   \n",
      "57         Very high               In person             ESTJ   \n",
      "58          Very low                  Online             INTJ   \n",
      "59               Low                  Online             ENFJ   \n",
      "\n",
      "           Best friend Preferred day  \n",
      "55          Sandra Bar      Thursday  \n",
      "56        Monika Busch        Friday  \n",
      "57  Wolfgang Rothstein        Friday  \n",
      "58      Sabrina Brandt     Wednesday  \n",
      "59      Melanie Hirsch        Monday  ]\n"
     ]
    }
   ],
   "source": [
    "######### ATTENTION ##########\n",
    "# Define your individual here!!! At the moment it will take a random individual! Pick for example the fittest individual.\n",
    "individual = create_random_individual(student_ids)\n",
    "\n",
    "# User Input for the Full Name - Please be accurate!\n",
    "fullname = str(input(\"Please the Full-Name you want to look up: \"))\n",
    "# Get the group by your Full Name - If there are multiple Persons with your name you will get all of them\n",
    "my_group = get_groups_by_person_fullname(fullname, individual)\n",
    "# Plotting the first group found\n",
    "if my_group:\n",
    "    print(my_group)\n",
    "else:\n",
    "    print(\"Didn't find the requested Person with given Fullname\")"
   ]
  },
  {
   "cell_type": "markdown",
   "metadata": {
    "pycharm": {
     "name": "#%% md\n"
    }
   },
   "source": [
    "#### Find your group by your ID"
   ]
  },
  {
   "cell_type": "code",
   "execution_count": 224,
   "metadata": {
    "pycharm": {
     "name": "#%%\n"
    }
   },
   "outputs": [
    {
     "name": "stdout",
     "output_type": "stream",
     "text": [
      "Didn't find the requested Person with given ID\n"
     ]
    }
   ],
   "source": [
    "# Find your group by your ID\n",
    "my_group = get_group_by_person_ID(101, individual)\n",
    "# Plotting the group, if one found with given ID\n",
    "if my_group is not None:\n",
    "    print(my_group)\n",
    "else:\n",
    "    print(\"Didn't find the requested Person with given ID\")"
   ]
  },
  {
   "cell_type": "markdown",
   "metadata": {
    "pycharm": {
     "name": "#%% md\n"
    }
   },
   "source": [
    "## Task 2"
   ]
  },
  {
   "cell_type": "markdown",
   "metadata": {
    "pycharm": {
     "name": "#%% md\n"
    }
   },
   "source": [
    "Play around with the different values like initial population size, mutation rate, fitness function, and number of students and observe when it works the best. Write your insights down here."
   ]
  },
  {
   "cell_type": "markdown",
   "metadata": {
    "pycharm": {
     "name": "#%% md\n"
    }
   },
   "source": []
  }
 ],
 "metadata": {
  "interpreter": {
   "hash": "46024bae245c9f00600f83cce7f4f46f3134317cce6afc2ecf551c3e651ce5aa"
  },
  "kernelspec": {
   "display_name": "Python 3 (ipykernel)",
   "language": "python",
   "name": "python3"
  },
  "language_info": {
   "codemirror_mode": {
    "name": "ipython",
    "version": 3
   },
   "file_extension": ".py",
   "mimetype": "text/x-python",
   "name": "python",
   "nbconvert_exporter": "python",
   "pygments_lexer": "ipython3",
   "version": "3.10.4"
  }
 },
 "nbformat": 4,
 "nbformat_minor": 2
}
