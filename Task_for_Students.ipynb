{
 "cells": [
  {
   "cell_type": "markdown",
   "metadata": {
    "pycharm": {
     "name": "#%% md\n"
    }
   },
   "source": [
    "# Using Genetic Algorithms to Form Optimal Groups"
   ]
  },
  {
   "cell_type": "markdown",
   "metadata": {
    "pycharm": {
     "name": "#%% md\n"
    }
   },
   "source": [
    "We have all been in that situation. You have to do a group project in a class, and the lecturer assigns the groups randomly. You find yourself in a group with people you don’t know and end up doing all the work by yourself. We want to change that and want you to implement an Genetic Algorithm that optimizes groups.\n"
   ]
  },
  {
   "cell_type": "markdown",
   "metadata": {
    "pycharm": {
     "name": "#%% md\n"
    }
   },
   "source": [
    "## Task 1:\n"
   ]
  },
  {
   "cell_type": "markdown",
   "metadata": {
    "collapsed": false,
    "pycharm": {
     "name": "#%% md\n"
    }
   },
   "source": [
    "You have to implement the initial population, crossover, mutation, and fitness function. We divided it into smaller subtasks for you and implemented some of the functions for you. If you want to do your own implementation, feel free to ignore our hints and functions.\n",
    "\n",
    "Your initial population consists of 50 group distributions, where 100 students are assigned to 20 groups. Each student has a Student ID, a name, their spoken language, their 2 Majors (we assume everyone is doing their Masters), their ambition in the course, their preferred meeting place, their personality type, their gender, a friend that they want to be in a group with, and their preferred meeting day.\n",
    "\n",
    "To get you even more involved with the task, we want every member of your group to add their own person into the data. To do so, you simply have to execute the Jupyter Notebook named \"Dataset_Input.ipynb\". We are using the Myers-Briggs personality, which may not be the most scientific, but it for sure is entertaining. If you don’t know your type, you can take the test here (approx. 10 minutes) https://www.16personalities.com/free-personality-test. "
   ]
  },
  {
   "cell_type": "markdown",
   "metadata": {
    "collapsed": false,
    "pycharm": {
     "name": "#%% md\n"
    }
   },
   "source": [
    "Run this cell to load the packages:"
   ]
  },
  {
   "cell_type": "code",
   "execution_count": 11,
   "metadata": {
    "collapsed": false,
    "pycharm": {
     "name": "#%%\n"
    }
   },
   "outputs": [],
   "source": [
    "import numpy as np\n",
    "import random\n",
    "import pandas as pd\n",
    "import matplotlib as plt\n",
    "from ast import literal_eval\n",
    "import ipywidgets\n",
    "import IPython\n",
    "from Generator import DataGenerator\n",
    "from typing import List"
   ]
  },
  {
   "cell_type": "markdown",
   "metadata": {
    "collapsed": false,
    "pycharm": {
     "name": "#%% md\n"
    }
   },
   "source": [
    "Execute this cell to create the dataset:"
   ]
  },
  {
   "cell_type": "code",
   "execution_count": 13,
   "metadata": {
    "collapsed": false,
    "pycharm": {
     "name": "#%%\n"
    }
   },
   "outputs": [],
   "source": [
    "generator = DataGenerator(50)\n",
    "\n",
    "# df, type_ = generator.create_basic()\n",
    "\n",
    "df, type_ = generator.create_full()\n",
    "\n",
    "df.to_csv(\"dataset_\" + type_ + \".csv\", encoding=\"utf-8-sig\", index=False)"
   ]
  },
  {
   "cell_type": "markdown",
   "metadata": {
    "collapsed": false,
    "pycharm": {
     "name": "#%% md\n"
    }
   },
   "source": [
    "Hyperparameters:"
   ]
  },
  {
   "cell_type": "code",
   "execution_count": 45,
   "metadata": {
    "collapsed": false,
    "pycharm": {
     "name": "#%%\n"
    }
   },
   "outputs": [
    {
     "data": {
      "text/html": [
       "<div>\n",
       "<style scoped>\n",
       "    .dataframe tbody tr th:only-of-type {\n",
       "        vertical-align: middle;\n",
       "    }\n",
       "\n",
       "    .dataframe tbody tr th {\n",
       "        vertical-align: top;\n",
       "    }\n",
       "\n",
       "    .dataframe thead th {\n",
       "        text-align: right;\n",
       "    }\n",
       "</style>\n",
       "<table border=\"1\" class=\"dataframe\">\n",
       "  <thead>\n",
       "    <tr style=\"text-align: right;\">\n",
       "      <th></th>\n",
       "      <th>ID</th>\n",
       "      <th>Name</th>\n",
       "      <th>Gender</th>\n",
       "      <th>Preferred language</th>\n",
       "      <th>Majors</th>\n",
       "      <th>Level of ambition</th>\n",
       "      <th>Preferred meeting place</th>\n",
       "      <th>Personality type</th>\n",
       "      <th>Best friend</th>\n",
       "      <th>Preferred day</th>\n",
       "    </tr>\n",
       "  </thead>\n",
       "  <tbody>\n",
       "    <tr>\n",
       "      <th>45</th>\n",
       "      <td>46</td>\n",
       "      <td>Klaus Fried</td>\n",
       "      <td>Male</td>\n",
       "      <td>Any</td>\n",
       "      <td>('NS', 'CL')</td>\n",
       "      <td>Low</td>\n",
       "      <td>In person</td>\n",
       "      <td>ESTJ</td>\n",
       "      <td>Maria Becker</td>\n",
       "      <td>Thursday</td>\n",
       "    </tr>\n",
       "    <tr>\n",
       "      <th>46</th>\n",
       "      <td>47</td>\n",
       "      <td>Susanne Keller</td>\n",
       "      <td>Female</td>\n",
       "      <td>Any</td>\n",
       "      <td>('PHIL', 'CL')</td>\n",
       "      <td>Medium</td>\n",
       "      <td>In person</td>\n",
       "      <td>ESTP</td>\n",
       "      <td>Kristian Nacht</td>\n",
       "      <td>Monday</td>\n",
       "    </tr>\n",
       "    <tr>\n",
       "      <th>47</th>\n",
       "      <td>48</td>\n",
       "      <td>Manuela Lang</td>\n",
       "      <td>Female</td>\n",
       "      <td>Any</td>\n",
       "      <td>('NS', 'NI')</td>\n",
       "      <td>Low</td>\n",
       "      <td>In person</td>\n",
       "      <td>ENFJ</td>\n",
       "      <td>Phillipp Bürger</td>\n",
       "      <td>Wednesday</td>\n",
       "    </tr>\n",
       "    <tr>\n",
       "      <th>48</th>\n",
       "      <td>49</td>\n",
       "      <td>Kristin Cole</td>\n",
       "      <td>Female</td>\n",
       "      <td>Any</td>\n",
       "      <td>('CP', 'CL')</td>\n",
       "      <td>High</td>\n",
       "      <td>In person</td>\n",
       "      <td>INFJ</td>\n",
       "      <td>Marcel Cole</td>\n",
       "      <td>Tuesday</td>\n",
       "    </tr>\n",
       "    <tr>\n",
       "      <th>49</th>\n",
       "      <td>50</td>\n",
       "      <td>Tobias Herman</td>\n",
       "      <td>Male</td>\n",
       "      <td>Any</td>\n",
       "      <td>('NI', 'NS')</td>\n",
       "      <td>Medium</td>\n",
       "      <td>In person</td>\n",
       "      <td>INFJ</td>\n",
       "      <td>Kristian Kortig</td>\n",
       "      <td>Friday</td>\n",
       "    </tr>\n",
       "  </tbody>\n",
       "</table>\n",
       "</div>"
      ],
      "text/plain": [
       "    ID            Name  Gender Preferred language          Majors  \\\n",
       "45  46     Klaus Fried    Male                Any    ('NS', 'CL')   \n",
       "46  47  Susanne Keller  Female                Any  ('PHIL', 'CL')   \n",
       "47  48    Manuela Lang  Female                Any    ('NS', 'NI')   \n",
       "48  49    Kristin Cole  Female                Any    ('CP', 'CL')   \n",
       "49  50   Tobias Herman    Male                Any    ('NI', 'NS')   \n",
       "\n",
       "   Level of ambition Preferred meeting place Personality type  \\\n",
       "45               Low               In person             ESTJ   \n",
       "46            Medium               In person             ESTP   \n",
       "47               Low               In person             ENFJ   \n",
       "48              High               In person             INFJ   \n",
       "49            Medium               In person             INFJ   \n",
       "\n",
       "        Best friend Preferred day  \n",
       "45     Maria Becker      Thursday  \n",
       "46   Kristian Nacht        Monday  \n",
       "47  Phillipp Bürger     Wednesday  \n",
       "48      Marcel Cole       Tuesday  \n",
       "49  Kristian Kortig        Friday  "
      ]
     },
     "execution_count": 45,
     "metadata": {},
     "output_type": "execute_result"
    }
   ],
   "source": [
    "students: pd.DataFrame = pd.read_csv(\"dataset_full.csv\")\n",
    "student_ids: List[int] = students.ID.tolist()\n",
    "\n",
    "# hyperparameters\n",
    "num_individuals: int = 100\n",
    "groupsize: int = 5\n",
    "# between 0 and 1\n",
    "mutation_rate: float = 0.01\n",
    "\n",
    "students.tail()"
   ]
  },
  {
   "cell_type": "markdown",
   "metadata": {
    "pycharm": {
     "name": "#%% md\n"
    }
   },
   "source": [
    "We create one random individual:"
   ]
  },
  {
   "cell_type": "code",
   "execution_count": 15,
   "metadata": {
    "pycharm": {
     "name": "#%%\n"
    }
   },
   "outputs": [
    {
     "name": "stdout",
     "output_type": "stream",
     "text": [
      "[13, 5, 47, 7, 31, 17, 14, 8, 20, 35, 42, 46, 37, 2, 16, 22, 29, 1, 18, 15, 12, 34, 49, 25, 26, 24, 3, 44, 33, 23, 48, 32, 43, 50, 4, 10, 9, 19, 27, 6, 41, 36, 21, 45, 30, 38, 39, 11, 28, 40]\n"
     ]
    }
   ],
   "source": [
    "def create_random_individual(student_ids: List[int]) -> List[int]:\n",
    "    #You don't need to do anything here.\n",
    "\n",
    "    individual = student_ids.copy()\n",
    "    random.shuffle(individual)\n",
    "\n",
    "    return individual\n",
    "\n",
    "print(create_random_individual(student_ids))"
   ]
  },
  {
   "cell_type": "markdown",
   "metadata": {
    "pycharm": {
     "name": "#%% md\n"
    }
   },
   "source": [
    "Create the initial population of 50 (=num_individuals) individuals:"
   ]
  },
  {
   "cell_type": "code",
   "execution_count": 16,
   "metadata": {
    "pycharm": {
     "name": "#%%\n"
    }
   },
   "outputs": [],
   "source": [
    "def create_initial_population(student_ids, groupsize: int) -> np.ndarray:\n",
    "    #should return a numpy array of the whole population\n",
    "    return np.array(sum([create_random_individual(student_ids) for _  in range(groupsize)], []), dtype=int)"
   ]
  },
  {
   "cell_type": "markdown",
   "metadata": {
    "pycharm": {
     "name": "#%% md\n"
    }
   },
   "source": [
    "We need a fitness function that computes how good the group distribution is. You have to take into consideration that we have many parameters that are not equally important and should therefore be differently weighted. We already coded some of the specific evaluation functions for the parameters for you. You have to implement the remaining evaluation functions. Think about what is desirable to have in a group and how you can calculate it. For example, you might have to change the data type of a parameter to make meaningful calculatons.\n",
    "\n",
    "At the end, you have to weigh all evaluation functions in one fitness function. "
   ]
  },
  {
   "cell_type": "code",
   "execution_count": 6,
   "metadata": {
    "pycharm": {
     "name": "#%%\n"
    }
   },
   "outputs": [],
   "source": [
    "# def evaluate_language(group: pd.DataFrame) -> float:\n",
    "#     preferred_language = group['Preferred language'].value_counts()\n",
    "#     if len(preferred_language) > 0:\n",
    "#         if preferred_language[0] == groupsize:\n",
    "#             return 5\n",
    "#     return 0"
   ]
  },
  {
   "cell_type": "code",
   "execution_count": 17,
   "metadata": {},
   "outputs": [],
   "source": [
    "def evaluate_language(group: pd.DataFrame) -> float:\n",
    "    # number of groupmembers per language\n",
    "    counts = group['Preferred language'].value_counts()\n",
    "    #if languages are conflicting, return -1\n",
    "    if 'German' in counts.index and 'English' in counts.index:\n",
    "        return -1\n",
    "    #if there is no conflict, return +5\n",
    "    return groupsize"
   ]
  },
  {
   "cell_type": "code",
   "execution_count": 18,
   "metadata": {
    "pycharm": {
     "name": "#%%\n"
    }
   },
   "outputs": [],
   "source": [
    "\n",
    "def evaluate_majors(group: pd.DataFrame) -> float:\n",
    "    # Remember that the majors are stored as a string like \"('NS','AI')\". \n",
    "    # You might need to preprocess those to actual tupels.\n",
    "    majors = [literal_eval(major) for major in group['Majors']]\n",
    "    majors = list(sum(majors, ()))\n",
    "    same_majors = [majors.count(major) for major in majors]\n",
    "    return sum(same_majors)\n"
   ]
  },
  {
   "cell_type": "code",
   "execution_count": 8,
   "metadata": {
    "pycharm": {
     "name": "#%%\n"
    }
   },
   "outputs": [],
   "source": [
    "# def evaluate_ambition(group: pd.DataFrame) -> float:\n",
    "#     #it might be useful to convert the strings to an integer scala\n",
    "#     level_ambition = list(group['Level of ambition'])\n",
    "\n",
    "#     if level_ambition.count(\"Very high\") > int(groupsize/2) or level_ambition.count(\"High\") > int(groupsize/2):\n",
    "#         return 5\n",
    "#     elif level_ambition.count(\"Medium\") > int(groupsize/2):\n",
    "#         return 3\n",
    "#     return 1"
   ]
  },
  {
   "cell_type": "code",
   "execution_count": 19,
   "metadata": {},
   "outputs": [],
   "source": [
    "def evaluate_ambition(group: pd.DataFrame) -> float:\n",
    "    # Map ambitions to ineger from 0-4\n",
    "    ambitions = ['Very low', 'Low', 'Medium', 'High', 'Very high']\n",
    "    ambition_mappings = np.arange(5)\n",
    "    for ambition, mapping in zip(ambitions, ambition_mappings):\n",
    "        group = group.replace(ambition, mapping)\n",
    "\n",
    "    # Return normalized with the maximally possible ambition level (16)\n",
    "    return group['Level of ambition'].sum() / 16"
   ]
  },
  {
   "cell_type": "code",
   "execution_count": 20,
   "metadata": {
    "pycharm": {
     "name": "#%%\n"
    }
   },
   "outputs": [],
   "source": [
    "def evaluate_meeting_place(group: pd.DataFrame) -> float:\n",
    "    #You don't need to code anything in here.\n",
    "    #This is an example evaluation function.\n",
    "    \n",
    "    # number of groupmembers for each preferred meeting place\n",
    "    meeting_place = group['Preferred meeting place'].value_counts()\n",
    "    if len(meeting_place)>0:\n",
    "        # if all prefer the same meeting place return 5, else 0\n",
    "        if meeting_place[0] == groupsize:\n",
    "            return 5\n",
    "    return 0"
   ]
  },
  {
   "cell_type": "code",
   "execution_count": 21,
   "metadata": {
    "pycharm": {
     "name": "#%%\n"
    }
   },
   "outputs": [],
   "source": [
    "def evaluate_gender(group: pd.DataFrame) -> float:\n",
    "    return 5"
   ]
  },
  {
   "cell_type": "code",
   "execution_count": 22,
   "metadata": {
    "pycharm": {
     "name": "#%%\n"
    }
   },
   "outputs": [],
   "source": [
    "def evaluate_friends(group: pd.DataFrame) -> float:\n",
    "    friends = list(group[\"Best friend\"])\n",
    "    names = list(group[\"Name\"])\n",
    "    num_of_friends = [1 for friend_a, friend_b in zip(friends, names) if friend_a == friend_b]\n",
    "    return sum(num_of_friends)"
   ]
  },
  {
   "cell_type": "code",
   "execution_count": 23,
   "metadata": {
    "pycharm": {
     "name": "#%%\n"
    }
   },
   "outputs": [],
   "source": [
    "def evaluate_personality(group: pd.DataFrame) -> float:\n",
    "    #You dont need to change anything in here \n",
    "\n",
    "    #information about compatible personality types is taken from\n",
    "    # Montequín, Vicente Rodríguez, et al. \"Using Myers-Briggs type indicator (MBTI) as a tool for setting up student teams for information technology projects.\" Journal of Information Technology and Application in Education 1.1 (2012): 28-34.\n",
    "\n",
    "    #count existing personality types in each group\n",
    "    personalities = group['Personality type']\n",
    "    types = personalities.value_counts()\n",
    "\n",
    "    #fitness function starts with 0 and gets better\n",
    "    # with every good group member\n",
    "    fitness = 0\n",
    "\n",
    "    #its good if there is a group leader like an ISTJ or an ESTJ, but only one\n",
    "    try:\n",
    "        if (types['ISTJ'] + types['ESTJ'] == 1):\n",
    "            fitness+=5\n",
    "        elif (types['ISTJ'] + types['ESTJ'] >= 2):\n",
    "            fitness-=5\n",
    "    except KeyError:\n",
    "        pass\n",
    "\n",
    "    #compare compatibility of group members\n",
    "    for i, personality_a in enumerate(personalities.tolist()):\n",
    "        for j, personality_b in enumerate(personalities.tolist()):\n",
    "            # skip same group member and members already compared\n",
    "            if i <= j:\n",
    "                continue\n",
    "\n",
    "            # increase fitness if\n",
    "            if (personality_a[1] != personality_b[1]) ^ (personality_a[2] != personality_b[2]):\n",
    "                if (personality_a[0] != personality_b[0]) or (personality_a[3] != personality_b[3]):\n",
    "                    fitness+=1\n",
    "\n",
    "    return fitness"
   ]
  },
  {
   "cell_type": "code",
   "execution_count": 24,
   "metadata": {
    "pycharm": {
     "name": "#%%\n"
    }
   },
   "outputs": [],
   "source": [
    "def evaluate_meeting_day(group: pd.DataFrame) -> float:\n",
    "    meeting_day = group['Preferred day'].value_counts()\n",
    "    if len(meeting_day) > 0:\n",
    "        # if all prefer the same meeting day return 5, else 0\n",
    "        if meeting_day[0] == groupsize:\n",
    "            return 5\n",
    "    return 0"
   ]
  },
  {
   "cell_type": "markdown",
   "metadata": {
    "pycharm": {
     "name": "#%% md\n"
    }
   },
   "source": [
    "And now put everything together.\n",
    "The function is almost done, but remember to add the weights.\n",
    "\n",
    "In case you want to add hard constraints, feel free to do that in this function.\n",
    "\n"
   ]
  },
  {
   "cell_type": "code",
   "execution_count": 25,
   "metadata": {
    "pycharm": {
     "name": "#%%\n"
    }
   },
   "outputs": [],
   "source": [
    "def evaluate_fitness(individual: np.ndarray, students: pd.DataFrame):\n",
    "    # split individual into student groups of the groupsize\n",
    "    # print(\"here \", individual)\n",
    "    groups = np.array_split(individual, (len(individual)/groupsize))\n",
    "\n",
    "    # iterate over groups and calculate scores for the different parameters\n",
    "    scores = []\n",
    "    for group_ids in groups:\n",
    "        # get full data for students in this group from pd dataframe\n",
    "\n",
    "        group = students.loc[students['ID'].isin(group_ids)]\n",
    "\n",
    "        # get individual scores for parameters\n",
    "        language_score = evaluate_language(group)\n",
    "        major_score = evaluate_majors(group)\n",
    "        ambition_score = evaluate_ambition(group)\n",
    "        place_score = evaluate_meeting_place(group)\n",
    "        gender_score = evaluate_gender(group)\n",
    "        friend_score = evaluate_friends(group)\n",
    "        personality_score = evaluate_personality(group)\n",
    "        day_score = evaluate_meeting_day(group)\n",
    "\n",
    "        # formula for adding and weighting different scores\n",
    "        scores.append(language_score+major_score+ambition_score+place_score+gender_score+friend_score+personality_score+day_score)\n",
    "\n",
    "    #Convert to series to calculate mean more easily\n",
    "    return pd.Series(scores).mean()\n",
    "    "
   ]
  },
  {
   "cell_type": "markdown",
   "metadata": {
    "pycharm": {
     "name": "#%% md\n"
    }
   },
   "source": [
    "Now, you have to code a crossover function, which takes 2 individuals based on their fitness function and produces a child from them. Use the tournament selection for parent selection.\n",
    "For the crossover, we want you to use the uniform crossover function with random templates. "
   ]
  },
  {
   "cell_type": "code",
   "execution_count": 26,
   "metadata": {
    "pycharm": {
     "name": "#%%\n"
    }
   },
   "outputs": [],
   "source": [
    "def tournament_selection(population: np.ndarray, tournament_size: int) -> List[np.ndarray]:\n",
    "    random.shuffle(population)\n",
    "    splitted_arr = np.array_split(population, tournament_size)\n",
    "    parent1, parent2 = 0, 0\n",
    "    for i in range(0,len(splitted_arr)-2, 2):\n",
    "        fitness_scores_candidate1 = evaluate_fitness(splitted_arr[i], students) \n",
    "        fitness_scores_candidate2 = evaluate_fitness(splitted_arr[i+1], students)\n",
    "\n",
    "        if parent1 == 0 and parent2 == 0:\n",
    "            parent1 = i\n",
    "            parent2 = i+1\n",
    "        \n",
    "        if fitness_scores_candidate1 > parent1:\n",
    "            parent1 = i\n",
    "        elif fitness_scores_candidate2 > parent2:\n",
    "            parent2 = i+1\n",
    "    return splitted_arr[parent1], splitted_arr[parent2]"
   ]
  },
  {
   "cell_type": "markdown",
   "metadata": {
    "pycharm": {
     "name": "#%% md\n"
    }
   },
   "source": [
    "Use a boolean template in the length of the individual, this can be hardcoded or generated randomly every time to add more variance. On the places where the template is true use the genes from parent1, then take all the genes from parent2 that are not used and add them to the empty places in the child in the same order as they appear on parent2"
   ]
  },
  {
   "cell_type": "code",
   "execution_count": 27,
   "metadata": {
    "pycharm": {
     "name": "#%%\n"
    }
   },
   "outputs": [],
   "source": [
    "def uniform_order_crossover(parent1: np.ndarray, parent2: np.ndarray, template: np.ndarray) -> np.ndarray:\n",
    "    genes_of_parent1 = np.argwhere(template==True)\n",
    "    genes_of_child = np.empty(parent1.shape)\n",
    "\n",
    "    for idx_parent1 in genes_of_parent1:\n",
    "        genes_of_child[idx_parent1] = parent1[idx_parent1]\n",
    "\n",
    "    empty_places = np.argwhere(genes_of_child==0)\n",
    "    counter = 0\n",
    "\n",
    "    for empty_place in empty_places:\n",
    "        genes_of_child[empty_place] = parent2[counter]\n",
    "        counter+=1\n",
    "    return genes_of_child"
   ]
  },
  {
   "cell_type": "markdown",
   "metadata": {
    "pycharm": {
     "name": "#%% md\n"
    }
   },
   "source": [
    "The last thing you need is the mutation function. It should take the individual produced by the crossover function and mutate it with a chance of for example 5%. A mutation switches the assigned groups of 2 people. "
   ]
  },
  {
   "cell_type": "code",
   "execution_count": 28,
   "metadata": {},
   "outputs": [],
   "source": [
    "def remove_duplicates(individual):\n",
    "    if set(individual) == len(individual):\n",
    "        return individual\n",
    "    individual = list(individual)\n",
    "    return [id if individual.count(id) == 1 else id - 2*idx for idx, id in enumerate(individual)]"
   ]
  },
  {
   "cell_type": "code",
   "execution_count": 51,
   "metadata": {
    "pycharm": {
     "name": "#%%\n"
    }
   },
   "outputs": [],
   "source": [
    "def mutation(individual: np.ndarray, mutation_rate: float) -> np.ndarray:\n",
    "    num_of_mutated_genes = int(individual.shape[0]/(mutation_rate*100))\n",
    "    mutated_indices = random.sample(range(individual.shape[0]), num_of_mutated_genes)\n",
    "    mutated_individual = individual.copy()\n",
    "    for idx in mutated_indices:\n",
    "        if mutated_individual[idx] > 0:\n",
    "            mutated_individual[idx] -= random.randint(num_individuals)\n",
    "\n",
    "    return remove_duplicates(mutated_individual)"
   ]
  },
  {
   "cell_type": "markdown",
   "metadata": {
    "pycharm": {
     "name": "#%% md\n"
    }
   },
   "source": [
    "You can now execute the code below and see if everything is working."
   ]
  },
  {
   "cell_type": "code",
   "execution_count": 54,
   "metadata": {
    "pycharm": {
     "name": "#%%\n"
    }
   },
   "outputs": [],
   "source": [
    "#episodes is the number of episodes after the algorithm stops\n",
    "#num_replace is the number of unfit individuals that will be replaced\n",
    "def genetic_algorithm(episodes: int, num_replace: int) -> np.ndarray:\n",
    "    population = create_initial_population(list(students.ID), groupsize)\n",
    "    \n",
    "    new_population = []\n",
    "    for episode in range(episodes):\n",
    "        # since we are choosing two parents each tournament, we iterate over the half size of population\n",
    "        parent1, parent2 = tournament_selection(population, 50)\n",
    "        splitted_population = np.array_split(population, 50)\n",
    "\n",
    "        population_fitness = [sum(individual)/len(individual) for individual in splitted_population]\n",
    "        population_fitness_average = round(sum(population_fitness)/len(population_fitness),4)\n",
    "        \n",
    "        template = np.random.choice(a=[False, True], size=parent1.shape)\n",
    "        child = uniform_order_crossover(parent1, parent2, template)\n",
    "        child_mutated = list(np.array(mutation(child, mutation_rate), dtype=int))\n",
    "        \n",
    "        if episode % 50 == 0:\n",
    "            print(f\"Episode {episode}:\")\n",
    "            print(f\"At the start, old population of size {len(splitted_population)} with average of the fitness score {population_fitness_average} and maxinmum fitness score {max(population_fitness)}\")\n",
    "            print(\"Fitnesss score of parent 1: \", evaluate_fitness(parent1, students))\n",
    "            print(\"Fitnesss score of parent 2: \", evaluate_fitness(parent2, students))\n",
    "            print(\"Fitnesss score of child: \", evaluate_fitness(child, students))\n",
    "            print(\"Fitnesss score of mutated child: \", evaluate_fitness(child_mutated, students), '\\n')\n",
    "\n",
    "        # new_population.append(list(parent1))\n",
    "        # new_population.append(list(parent2))\n",
    "        new_population.append(child_mutated)\n",
    "\n",
    "    print(\"Now we have a population of size \", len(new_population))\n",
    "\n",
    "    population_fitness = [evaluate_fitness(individual, students) for individual in new_population]\n",
    "    population_fitness_idx = np.argsort(population_fitness)\n",
    "\n",
    "    to_replace = num_replace if len(population_fitness_idx) > num_replace else len(population_fitness_idx)\n",
    "    tmp = []\n",
    "    \n",
    "    for i in range(to_replace):\n",
    "        x = new_population[population_fitness_idx[i]]\n",
    "        tmp.append(x)\n",
    "\n",
    "    for x in tmp:\n",
    "        new_population.remove(x)\n",
    "    \n",
    "    population_fitness = [sum(individual)/len(individual) for individual in new_population]\n",
    "    population_fitness_average = round(sum(population_fitness)/len(population_fitness),4)\n",
    "    print(f\"After removing the weak elements, we have a population of size {len(new_population)} with average of the fitness score {population_fitness_average} and maxinmum fitness score {max(population_fitness)}\")"
   ]
  },
  {
   "cell_type": "code",
   "execution_count": 55,
   "metadata": {
    "pycharm": {
     "name": "#%%\n"
    }
   },
   "outputs": [
    {
     "name": "stdout",
     "output_type": "stream",
     "text": [
      "Episode 0:\n",
      "At the start, old population of size 50 with average of the fitness score 25.5 and maxinmum fitness score 38.0\n",
      "Fitnesss score of parent 1:  42.6875\n",
      "Fitnesss score of parent 2:  45.5\n",
      "Fitnesss score of child:  30.375\n",
      "Fitnesss score of mutated child:  41.5 \n",
      "\n",
      "Episode 50:\n",
      "At the start, old population of size 50 with average of the fitness score 25.5 and maxinmum fitness score 38.8\n",
      "Fitnesss score of parent 1:  44.25\n",
      "Fitnesss score of parent 2:  40.5\n",
      "Fitnesss score of child:  38.375\n",
      "Fitnesss score of mutated child:  24.25 \n",
      "\n",
      "Episode 100:\n",
      "At the start, old population of size 50 with average of the fitness score 25.5 and maxinmum fitness score 34.8\n",
      "Fitnesss score of parent 1:  39.8125\n",
      "Fitnesss score of parent 2:  41.8125\n",
      "Fitnesss score of child:  39.875\n",
      "Fitnesss score of mutated child:  30.6875 \n",
      "\n",
      "Episode 150:\n",
      "At the start, old population of size 50 with average of the fitness score 25.5 and maxinmum fitness score 35.8\n",
      "Fitnesss score of parent 1:  36.625\n",
      "Fitnesss score of parent 2:  44.5625\n",
      "Fitnesss score of child:  33.375\n",
      "Fitnesss score of mutated child:  30.75 \n",
      "\n",
      "Episode 200:\n",
      "At the start, old population of size 50 with average of the fitness score 25.5 and maxinmum fitness score 43.4\n",
      "Fitnesss score of parent 1:  47.6875\n",
      "Fitnesss score of parent 2:  34.875\n",
      "Fitnesss score of child:  44.6875\n",
      "Fitnesss score of mutated child:  37.875 \n",
      "\n",
      "Now we have a population of size  250\n",
      "After removing the weak elements, we have a population of size 250 with average of the fitness score 23.5408 and maxinmum fitness score 41.6\n"
     ]
    }
   ],
   "source": [
    "population = genetic_algorithm(250,0)"
   ]
  },
  {
   "cell_type": "markdown",
   "metadata": {
    "collapsed": false,
    "pycharm": {
     "name": "#%% md\n"
    }
   },
   "source": [
    "### Let's find your group or the one of a friend"
   ]
  },
  {
   "cell_type": "code",
   "execution_count": 31,
   "metadata": {
    "collapsed": false,
    "pycharm": {
     "name": "#%%\n"
    }
   },
   "outputs": [],
   "source": [
    "def get_groups_from_individual(individual: np.ndarray) -> List[np.ndarray]:\n",
    "    \"\"\" Returns a Python List of all Groups in an individual(as numpy ndarrays) \"\"\"\n",
    "    groups = pd.DataFrame()\n",
    "    for i in individual:\n",
    "        groups = pd.concat([groups, students.loc[students['ID'] == i]])\n",
    "\n",
    "    groups = groups.reset_index(drop=True)\n",
    "    nested_groups_list = []\n",
    "    for n,j in enumerate(range(0, len(groups), groupsize)):\n",
    "        nested_groups_list.append(pd.DataFrame(groups[j:j+groupsize]))\n",
    "    return nested_groups_list\n",
    "\n",
    "def get_groups_by_person_fullname(fullname: str, individual: np.ndarray) -> List[np.ndarray]:\n",
    "    \"\"\" Returns all Groups that got a Person with $fullname$ in given $individual$\"\"\"\n",
    "    nested_groups_list = get_groups_from_individual(individual)\n",
    "\n",
    "    groups_with_person = []\n",
    "    for group in nested_groups_list:\n",
    "        if fullname in group[\"Name\"].values:\n",
    "            groups_with_person.append(group)\n",
    "    return groups_with_person\n",
    "\n",
    "def get_group_by_person_ID(ID: int, individual: np.ndarray) -> np.ndarray:\n",
    "    \"\"\" Returns Group that has Person with given $ID$ in given $individual$\"\"\"\n",
    "    nested_groups_list = get_groups_from_individual(individual)\n",
    "    groups_with_person = []\n",
    "    for group in nested_groups_list:\n",
    "        if ID in group[\"ID\"].values:\n",
    "            return group\n",
    "    return None"
   ]
  },
  {
   "cell_type": "markdown",
   "metadata": {
    "collapsed": false,
    "pycharm": {
     "name": "#%% md\n"
    }
   },
   "source": [
    "\n",
    "#### Find your group by your Fullname"
   ]
  },
  {
   "cell_type": "code",
   "execution_count": null,
   "metadata": {
    "collapsed": false,
    "pycharm": {
     "name": "#%%\n"
    }
   },
   "outputs": [],
   "source": [
    "######### ATTENTION ##########\n",
    "# Define your individual here!!! At the moment it will take a random individual! Pick for example the fittest individual.\n",
    "individual = create_random_individual(student_ids)\n",
    "\n",
    "# User Input for the Full Name - Please be accurate!\n",
    "fullname = str(input(\"Reem X\"))\n",
    "# Get the group by your Full Name - If there are multiple Persons with your name you will get all of them\n",
    "my_group = get_groups_by_person_fullname(fullname, individual)\n",
    "# Plotting the first group found\n",
    "if my_group:\n",
    "    print(my_group)\n",
    "else:\n",
    "    print(\"Didn't find the requested Person with given Fullname\")"
   ]
  },
  {
   "cell_type": "markdown",
   "metadata": {
    "collapsed": false,
    "pycharm": {
     "name": "#%% md\n"
    }
   },
   "source": [
    "#### Find your group by your ID"
   ]
  },
  {
   "cell_type": "code",
   "execution_count": 146,
   "metadata": {
    "collapsed": false,
    "pycharm": {
     "name": "#%%\n"
    }
   },
   "outputs": [
    {
     "name": "stdout",
     "output_type": "stream",
     "text": [
      "     ID             Name  Gender Preferred language          Majors  \\\n",
      "75   48    Torsten Beyer  Female                Any  ('CP', 'PHIL')   \n",
      "76   72     Karolin Bach  Female                Any  ('CL', 'PHIL')   \n",
      "77   38   Heike Schwartz  Female                Any    ('NI', 'NS')   \n",
      "78  101      Donald Dump  Divers                Any    ('AI', 'NI')   \n",
      "79   61  Leon Zimmermann    Male            English  ('AI', 'PHIL')   \n",
      "\n",
      "   Level of ambition Preferred meeting place Personality type  \\\n",
      "75              High               In person             INTP   \n",
      "76               Low               In person             ENFJ   \n",
      "77               Low               In person             INFP   \n",
      "78            Medium                  Online             ENTP   \n",
      "79               Low               In person             ENTJ   \n",
      "\n",
      "             Best friend Preferred day  \n",
      "75  Florian Baumgaertner      Thursday  \n",
      "76     Michael Eberhardt     Wednesday  \n",
      "77        Karin Glockner      Thursday  \n",
      "78           Daniel Wulf        Monday  \n",
      "79    Sophia Weissmuller        Friday  \n"
     ]
    }
   ],
   "source": [
    "# Find your group by your ID\n",
    "my_group = get_group_by_person_ID(101, individual)\n",
    "# Plotting the group, if one found with given ID\n",
    "if my_group is not None:\n",
    "    print(my_group)\n",
    "else:\n",
    "    print(\"Didn't find the requested Person with given ID\")"
   ]
  },
  {
   "cell_type": "markdown",
   "metadata": {
    "pycharm": {
     "name": "#%% md\n"
    }
   },
   "source": [
    "## Task 2"
   ]
  },
  {
   "cell_type": "markdown",
   "metadata": {
    "pycharm": {
     "name": "#%% md\n"
    }
   },
   "source": [
    "Play around with the different values like initial population size, mutation rate, fitness function, and number of students and observe when it works the best. Write your insights down here."
   ]
  },
  {
   "cell_type": "markdown",
   "metadata": {
    "pycharm": {
     "name": "#%% md\n"
    }
   },
   "source": [
    "### Population size:\n",
    "- \"large\": 500\n",
    "- \"small\": 50\n",
    "\n",
    "### Mutation rate:\n",
    "- 0.03\n",
    "- 0.3\n",
    "\n",
    "### Number of students:\n",
    "\n"
   ]
  },
  {
   "cell_type": "markdown",
   "metadata": {},
   "source": []
  }
 ],
 "metadata": {
  "interpreter": {
   "hash": "2dc1d4bf8a7f47a46026872f46a8e8647be283309b190db9cb69ed4c9493c2c2"
  },
  "kernelspec": {
   "display_name": "Python 3.9.10 ('demucs')",
   "language": "python",
   "name": "python3"
  },
  "language_info": {
   "codemirror_mode": {
    "name": "ipython",
    "version": 3
   },
   "file_extension": ".py",
   "mimetype": "text/x-python",
   "name": "python",
   "nbconvert_exporter": "python",
   "pygments_lexer": "ipython3",
   "version": "3.9.12"
  },
  "orig_nbformat": 4
 },
 "nbformat": 4,
 "nbformat_minor": 2
}
