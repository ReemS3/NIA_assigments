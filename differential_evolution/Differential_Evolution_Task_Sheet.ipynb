{
 "cells": [
  {
   "cell_type": "markdown",
   "metadata": {
    "pycharm": {
     "name": "#%% md\n"
    }
   },
   "source": [
    "## Section 1: Create Your Own T-Rex!\n",
    "\n",
    "Credit: Anna Sommer, Fabienne Kock, Hind Shalfeh, Inga Wohlert, Malte Heyen, Marlon Dammann, Max Wassermann, and Piper Powell\n"
   ]
  },
  {
   "cell_type": "markdown",
   "metadata": {
    "pycharm": {
     "name": "#%% md\n"
    }
   },
   "source": [
    "The T-Rex was one of the most famous (and most dangerous) dinosaurs to have existed on Earth. With individuals reaching weights as high as 14 metric tons, these predators were something to watch out for during their prime over 60 million years ago. Now, use Python and the power of Differential Evolution to bring these animals back to life and build the best apex predator you can (but do try to avoid any ... Jurassic Park style incidents while you're at it).\n",
    "\n",
    "Let the evolution begin!"
   ]
  },
  {
   "cell_type": "code",
   "execution_count": 1,
   "metadata": {
    "pycharm": {
     "name": "#%%\n"
    }
   },
   "outputs": [],
   "source": [
    "#Our suggested imports. If you use functions from other packages, be sure to import them here.\n",
    "\n",
    "import numpy as np\n",
    "import random as random"
   ]
  },
  {
   "cell_type": "markdown",
   "metadata": {
    "pycharm": {
     "name": "#%% md\n"
    }
   },
   "source": [
    "## Task 1 - Create Your T-Rex!\n",
    "\n",
    "A real T-Rex would have been a complex animal with hundreds of parameters and variations that interacted with its environment and dictated how well it could survive. Here, we'll be starting our evolutionary exercise by creating a simplified version of the predator, with only 7 principle features - brain size, teeth size, height, weight, camouflage level, claw size, and aggression.\n",
    "\n",
    "Your Differential Evolution expert has reminded you that all calculations for this algorithm occur in a multi-dimensional vector space and that they'll need that taken into account when you create the mathematical representation of your Rex. They've left the specifics of that up to you though. They did recommend starting by defining a unit of measure for your features, and setting a few logical constraints. Thankfully, they've also provided you with some helpful info that might assist you in determining reasonable units and ranges:\n",
    "\n",
    "- brain size: An adult T-Rex had a brain size of up to approximately 1kg. That's actually only about 1 liter of water!\n",
    "- teeth size: T-Rex teeth could grow to be up to 30cm long. Dentists beware!\n",
    "- height: A T-Rex could grow to be taller than 3.5 meters just at the hips. Better raise the ceiling!\n",
    "- weight: A T-Rex is estimated to have weighed between 5.000 and 7.000 kg. That's nearly three African elephants!\n",
    "- camouflage level: Camouflage is hard to measure, but you might consider a handy percentage effectiveness measure here.\n",
    "- claw size: Though not as large as some of their teeth, a T-Rex claw could still grow to around 10cm long. A dangerous weapon!\n",
    "- aggression: T-Rex was an aggressive animal, but this would have varied by individual. A percentage might be useful here as well."
   ]
  },
  {
   "cell_type": "code",
   "execution_count": 84,
   "metadata": {
    "collapsed": false,
    "pycharm": {
     "name": "#%%\n"
    }
   },
   "outputs": [],
   "source": [
    "def create_rex():\n",
    "    \"\"\"\n",
    "    Create a T-Rex with random values for brain size, teeth size, height, weight, camouflage level, claw size, and aggression.\n",
    "    return: trex; list, a random 7-dimensional vector representing your T-Rex\n",
    "    \"\"\"\n",
    "\n",
    "    #YOUR CODE HERE\n",
    "    brain_size = round(random.uniform(0.5, 1), 2)\n",
    "    teeth_size = round(random.uniform(5.0, 30.0), 2)\n",
    "    height = round(random.uniform(2.0, 4.0), 2)\n",
    "    weight = round(random.uniform(5000., 7000.), 2)\n",
    "    camouflage = round(random.uniform(0., 100.0), 2)\n",
    "    clawsize = round(random.uniform(5.0, 10.0), 2)\n",
    "    aggression = round(random.uniform(0., 100.0), 2)\n",
    "    \n",
    "    return [brain_size, teeth_size, height, weight, camouflage, clawsize, aggression]"
   ]
  },
  {
   "cell_type": "markdown",
   "metadata": {
    "collapsed": false,
    "pycharm": {
     "name": "#%% md\n"
    }
   },
   "source": [
    "## Task 2 - Out of the Lab and Into the Wild\n",
    "Now that you have created your T-Rex, it's time to let it loose and see how well it survives! After all, we don't want to base our next round of evolutionary exploration on an individual that doesn't survive well in the wild.\n",
    "\n",
    "To test your T-Rex, create a series of fitness functions that will evaluate its performance in its environment.\n",
    "\n",
    "Your Differential Evolution expert has explained that for technical reasons, it would be best if all the fitness functions output a score within the same range, perhaps 0-100.\n",
    "\n",
    "Don't forget how you've stored your T-Rex's trait information..."
   ]
  },
  {
   "cell_type": "markdown",
   "metadata": {
    "collapsed": false,
    "pycharm": {
     "name": "#%% md\n"
    }
   },
   "source": [
    "### 1.1 Fitness to Hunt\n",
    "\n",
    "Your T-Rex needs to be able to hunt for food. Some of its traits will help it out there, but others could prove a hindrance...\n",
    "\n",
    "Luckily, there is an abundant amount of large prey that your T-Rex can rip into with their sharp teeth and claws. The prey is quite docile though, and it startles easily. Unless you can hide properly or tactically corner it, it's likely to escape or retaliate aggressively. Your T-Rex also needs to feel like attacking the prey in the first place, and it needs to be fast enough to run and catch it.\n",
    "\n",
    "Based on this information, identify the features of your T-Rex which will play a role in how well it is able to hunt for food, and then define a function which will output an overall hunting fitness score for your T-Rex based on its levels of these features.\n",
    "\n",
    "Hint: Brain size and intelligence are of course not directly related, but you might use brain size as a proxy for intelligence here."
   ]
  },
  {
   "cell_type": "code",
   "execution_count": 4,
   "metadata": {
    "collapsed": false,
    "pycharm": {
     "name": "#%%\n"
    }
   },
   "outputs": [],
   "source": [
    "def fitness_hunt(trex):\n",
    "    \"\"\"\n",
    "    Evaluates the fitness of a T-Rex with respect to hunting.\n",
    "    param: trex; list, a vector representing the T-Rex\n",
    "    return: fithunt; float, hunting fitness value of the T-Rex\n",
    "    \"\"\"\n",
    "\n",
    "    #YOUR CODE HERE\n",
    "    #Don't forget to keep your scores in the proper range!\n",
    "    return trex[0]+(trex[3]/trex[2])+trex[4]+trex[6]"
   ]
  },
  {
   "cell_type": "markdown",
   "metadata": {
    "collapsed": false,
    "pycharm": {
     "name": "#%% md\n"
    }
   },
   "source": [
    "### 1.2 Fitness to Fight\n",
    "\n",
    "Your T-Rex will sometimes need to fight other animals, whether over territory or simply to not lose the food it's worked so hard to hunt. Some of its traits will help it out there, but others could prove a hindrance...\n",
    "\n",
    "Your T-Rex will need good weapons, a willingness to attack, and good planning so it doesn't make a mistake in the battle and get hurt. Even a small T-Rex might be able to prevail with a cunning plan, but if a T-Rex can't maneuver lightly to dodge attacks and land its own blows, it could be a very short conflict.\n",
    "\n",
    "Based on this information, identify the features of your T-Rex which will play a role in how well it is able to fight when the need arises, and then define a function which will output an overall fighting fitness score for your T-Rex based on its levels of these features.\n",
    "\n",
    "Hint: Brain size and intelligence are of course not directly related, but you might use brain size as a proxy for intelligence here."
   ]
  },
  {
   "cell_type": "code",
   "execution_count": 5,
   "metadata": {
    "collapsed": false,
    "pycharm": {
     "name": "#%%\n"
    }
   },
   "outputs": [],
   "source": [
    "def fitness_fight(trex):\n",
    "    \"\"\"\n",
    "    Evaluates the fitness of a T-Rex with respect to fighting.\n",
    "    param: trex; list, a vector representing the T-Rex\n",
    "    return: fitfight; float, fighting fitness value of the T-Rex\n",
    "    \"\"\"\n",
    "\n",
    "    #YOUR CODE HERE\n",
    "\n",
    "    #Don't forget to keep your scores in the proper range!\n",
    "    return trex[0]+trex[1]+trex[5]+trex[6]+trex[2]"
   ]
  },
  {
   "cell_type": "markdown",
   "metadata": {
    "collapsed": false,
    "pycharm": {
     "name": "#%% md\n"
    }
   },
   "source": [
    "### 1.3 Fitness to Flee\n",
    "\n",
    "Even a T-Rex will sometimes need to make a quick getaway if it (ahem) bites off more than it can chew. Some of its traits will help it out there, but others could prove a hindrance...\n",
    "\n",
    "A lighter T-Rex with longer legs will be able to run away faster. A T-Rex with better camouflaged skin might be able to hide easier. A T-Rex who's too aggressive might not be able to pull itself away from the fight, even if it's poorly matched to its opponent.\n",
    "\n",
    "Based on this information, identify the features of your T-Rex which will play a role in how well it is able to fight when the need arises, and then define a function which will output an overall fleeing fitness score for your T-Rex based on its levels of these features.\n",
    "\n",
    "Hint: You might consider a ratio of weight/height to determine running speed."
   ]
  },
  {
   "cell_type": "code",
   "execution_count": 6,
   "metadata": {
    "collapsed": false,
    "pycharm": {
     "name": "#%%\n"
    }
   },
   "outputs": [],
   "source": [
    "def fitness_flee(trex):\n",
    "    \"\"\"\n",
    "    Evaluates the fitness of a T-Rex with respect to fleeing.\n",
    "    param: trex; list, a vector representing the T-Rex\n",
    "    return: fitflee; float, fleeing fitness value of the T-Rex\n",
    "    \"\"\"\n",
    "\n",
    "    #YOUR CODE HERE\n",
    "\n",
    "    #Don't forget to keep your scores in the proper range!\n",
    "    return (trex[3]/trex[2])+trex[4]"
   ]
  },
  {
   "cell_type": "markdown",
   "metadata": {
    "collapsed": false,
    "pycharm": {
     "name": "#%% md\n"
    }
   },
   "source": [
    "### Overall Fitness\n",
    "\n",
    "For technical reasons, your Differential Evolution expert would prefer you assembled your T-Rex's fitness scores into one convenient overall fitness score that they can use in their evaluations. They request that the output of this function be in the same range you used for the basic fitness functions. Higher scores should mean higher chances of survival and a greater level of success in the wild."
   ]
  },
  {
   "cell_type": "code",
   "execution_count": 8,
   "metadata": {
    "collapsed": false,
    "pycharm": {
     "name": "#%%\n"
    }
   },
   "outputs": [],
   "source": [
    "def combi_fitness(trex):\n",
    "    \"\"\"\n",
    "    Evaluates the overall fitness of a T-Rex.\n",
    "    param: trex; list, a vector representing the T-Rex\n",
    "    return: combifitness; integer, an overall fitness value for your T-Rex\n",
    "    \"\"\"\n",
    "    #Call your other fitness functions above to calculate the overall fitness of your T-Rex\n",
    "\n",
    "    #YOUR CODE HERE\n",
    "\n",
    "    #Don't forget to keep your scores in the proper range!\n",
    "    return (fitness_fight(trex)+ fitness_flee(trex) + fitness_hunt(trex))/3"
   ]
  },
  {
   "cell_type": "markdown",
   "metadata": {
    "collapsed": false,
    "pycharm": {
     "name": "#%% md\n"
    }
   },
   "source": [
    "Your Differential Evolution expert likes your fitness formula! He reminds you though that Differential Evolution usually works by minimizing the fitness function, not maximizing it, meaning that your fitness function will need to behave like a cost function instead. To let you focus on other more important matters, he's provided you with a handy line of code that will perform the necessary conversion to make your function suitable for the standard form of Differential Evolution."
   ]
  },
  {
   "cell_type": "code",
   "execution_count": 9,
   "metadata": {
    "collapsed": false,
    "pycharm": {
     "name": "#%%\n"
    }
   },
   "outputs": [],
   "source": [
    "cost_function = lambda x:-combi_fitness(x)"
   ]
  },
  {
   "cell_type": "markdown",
   "metadata": {
    "collapsed": false,
    "pycharm": {
     "name": "#%% md\n"
    }
   },
   "source": [
    "## Task 3: The More, The Merrier\n",
    "\n",
    "Congratulations! You've created a T-Rex and tested it in the wild. But in order to find the *best* T-Rex, we'll of course need more than one. Create a population of T-Rex's so we can let nature take its course and create the best one."
   ]
  },
  {
   "cell_type": "code",
   "execution_count": 10,
   "metadata": {
    "collapsed": false,
    "pycharm": {
     "name": "#%%\n"
    }
   },
   "outputs": [],
   "source": [
    "def create_population(pop_size):\n",
    "    \"\"\"\n",
    "    Creates a population of T-Rex's of size pop_size.\n",
    "    param: pop_size; integer, the number of T-Rex's you want to create in your population\n",
    "    return: population; list, a list of the T-Rex vectors that make up your population\n",
    "    \"\"\"\n",
    "\n",
    "    #YOUR CODE HERE\n",
    "    return [create_rex() for __ in range(pop_size)]"
   ]
  },
  {
   "cell_type": "markdown",
   "metadata": {
    "collapsed": false,
    "pycharm": {
     "name": "#%% md\n"
    }
   },
   "source": [
    "## Task 4: Evolution Requires Preparation\n",
    "\n",
    "Now that we can create a single T-Rex, and a population of T-Rex's, it's time to use our powers of Differential Evolution to build the best Rex possible. We'll need to start by taking care of a few niggling details your Differential Evolution expert has requested you address before the real fun begins."
   ]
  },
  {
   "cell_type": "code",
   "execution_count": 85,
   "metadata": {},
   "outputs": [],
   "source": [
    "def check_validity(trex):\n",
    "    trex = [round(i, 2) for i in trex]\n",
    "    if trex[0] < .1 or trex[0] > 1.:\n",
    "        trex[0] = round(random.uniform(0.5, 1.0), 2)\n",
    "    if trex[1] < 5. or trex[1] > 30.:\n",
    "        trex[1] = round(random.uniform(5., 30.), 2)\n",
    "    if trex[2] < 3. or trex[2] > 35.:\n",
    "        trex[2] = round(random.uniform(2., 4.), 2)\n",
    "    if trex[3] < 5000. or trex[3] > 7000.:\n",
    "        trex[3] = round(random.uniform(5000., 7000.), 2)\n",
    "    if trex[4] < 0. or trex[4] > 100.:\n",
    "        trex[4] = round(random.uniform(0., 100.), 2)\n",
    "    if trex[5] < 1. or trex[5] > 10.:\n",
    "        trex[5] = round(random.uniform(5., 10.), 2)\n",
    "    if trex[6] < 0. or trex[6] > 100.:\n",
    "        trex[6] = round(random.uniform(0., 100.), 2)\n",
    "    return trex"
   ]
  },
  {
   "cell_type": "markdown",
   "metadata": {
    "collapsed": false,
    "pycharm": {
     "name": "#%% md\n"
    }
   },
   "source": [
    "### Mutation\n",
    "\n",
    "As you learned in the presentation, mutation is a key step in the Differential Evolution algorithm. Go ahead and program it here so we have it on hand later.\n"
   ]
  },
  {
   "cell_type": "code",
   "execution_count": 13,
   "metadata": {
    "pycharm": {
     "name": "#%%\n"
    }
   },
   "outputs": [],
   "source": [
    "def mutation(current_rex_index, rex_population, differential_weight):\n",
    "    \"\"\"\n",
    "    Creates the mutant vector for the current T-Rex out of the current population.\n",
    "    param: current_rex_index; integer, the index of the vector for the current T-Rex within the population\n",
    "           rex_population; list, the list of T-Rex vectors that makes up your population\n",
    "           differential_weight; float, the differential weight discussed in the presentation\n",
    "    return: mutant_vector, a list representing the 7-dimensional mutant vector\n",
    "    \"\"\"\n",
    "\n",
    "    #Start by selecting the T-Rex's you will mutate with, making sure you're not using the same Rex twice!\n",
    "    current_trex= rex_population[current_rex_index]\n",
    "\n",
    "    population = [trex for trex in rex_population if trex != current_trex]\n",
    "    population = random.sample(population, 3)\n",
    "    #Watch out for the differential weight. It could cause a T-Rex vector to be created with one of its values outside the range you specified in create_rex(). Make sure you handle this somehow.\n",
    "    #YOUR CODE HERE\n",
    "    mutated_trex = np.add(population[0], differential_weight*np.subtract(population[1],population[2]))\n",
    "    \n",
    "    return check_validity(mutated_trex)"
   ]
  },
  {
   "cell_type": "markdown",
   "metadata": {
    "collapsed": false,
    "pycharm": {
     "name": "#%% md\n"
    }
   },
   "source": [
    "### Crossover\n",
    "\n",
    "Another important function you'll remember from the presentation is crossover. Go ahead and implement this function here as well so we have it on hand later."
   ]
  },
  {
   "cell_type": "code",
   "execution_count": 14,
   "metadata": {
    "collapsed": false,
    "pycharm": {
     "name": "#%%\n"
    }
   },
   "outputs": [],
   "source": [
    "def cross_over(mutant_vector, trex, crossover_rate):\n",
    "    \"\"\"\n",
    "    Creates the potential new T-Rex via the crossover process using the input T-Rex's vector and the mutant vector\n",
    "    param: mutant_vector; list, the 7-dimensional mutant vector\n",
    "           trex; list, the vector for the input T-Rex\n",
    "           crossover_rate; float, the crossover rate (CR) discussed in the presentation\n",
    "    return: mutant_rex, the vector for the potential new T-Rex created in the crossover process\n",
    "    \"\"\"\n",
    "    i = random.randint(0,6)\n",
    "    #Remember to initialize your r value as discussed in the presentation!\n",
    "    mutant_rex = []\n",
    "    #Remember to implement checks for both the r < CR case and the j = i case discussed in the presentation!\n",
    "    for j in range(len(mutant_vector)):\n",
    "           r = round(random.uniform(0., 1.), 2) \n",
    "           if r < crossover_rate and i == j:\n",
    "                  mutant_rex.append(mutant_vector[j])\n",
    "           else:\n",
    "                  mutant_rex.append(trex[j])\n",
    "    #YOUR CODE HERE\n",
    "\n",
    "    return mutant_rex"
   ]
  },
  {
   "cell_type": "markdown",
   "metadata": {
    "pycharm": {
     "name": "#%% md\n"
    }
   },
   "source": [
    "### Selection\n",
    "\n",
    "Once you've created a new candidate T-Rex for our population using mutation and crossover, we'll need a way to see if we will actually add this new Rex to our population, or if we will discard it. After all, we don't want to add a Rex who is worse off in the environment than the one we started with!"
   ]
  },
  {
   "cell_type": "code",
   "execution_count": 15,
   "metadata": {
    "pycharm": {
     "name": "#%%\n"
    }
   },
   "outputs": [],
   "source": [
    "def selection(mutant_rex, trex, population, cost_function):\n",
    "    \"\"\"\n",
    "    Checks to see if the new T-Rex will be added to the population or discarded.\n",
    "    param: mutant_rex; list, the vector for the potential new T-Rex created via mutation and crossover\n",
    "           trex; list, the vector for the current T-Rex\n",
    "           population; list, the list of T-Rex vectors that make up the population\n",
    "           cost_function; function, the converted fitness function used to evaluate the T-Rex's\n",
    "    \"\"\"\n",
    "\n",
    "    #YOUR CODE HERE\n",
    "    \n",
    "    if cost_function(mutant_rex) <= cost_function(trex):\n",
    "           population.remove(trex)\n",
    "           population.append(mutant_rex)"
   ]
  },
  {
   "cell_type": "markdown",
   "metadata": {
    "pycharm": {
     "name": "#%% md\n"
    }
   },
   "source": [
    "## Task 5: Evolve Your T-Rex!\n",
    "\n",
    "Now that you have laid the foundations by defining functions to create a single T-Rex and a population of them, to create new T-Rex's based on the current ones, and to evaluate the fitness of your Rex's, it's time to bring it all together and set the algorithm to work!"
   ]
  },
  {
   "cell_type": "code",
   "execution_count": 16,
   "metadata": {
    "pycharm": {
     "name": "#%%\n"
    }
   },
   "outputs": [],
   "source": [
    "def de_algorithm(pop_size, generations, crossover_rate, differential_weight, cost_function):\n",
    "    \"\"\"\n",
    "    Brings together the functions above to perform Differential Evolution and find the best individual\n",
    "    param: pop_size; integer, the size of the population you want to create and run the algorithm on\n",
    "           generations; integer, how many generations you want the algorithm to run for\n",
    "           crossover_rate; float, the crossover rate (CR) discussed in the presentation\n",
    "           differential_weight; float, the differential weight (F) discussed in the presentation\n",
    "           cost_function; function, the converted fitness function for evaluating individuals\n",
    "    return: best; list, the vector representing the best individual at the conclusion of the algorithm's run\n",
    "    \"\"\"\n",
    "\n",
    "    #YOUR CODE HERE\n",
    "    population = create_population(pop_size)\n",
    "    for __ in range(generations):\n",
    "           for idx, trex in enumerate(population):\n",
    "              mutant_vector = mutation(idx, population, differential_weight)\n",
    "              new_candidate = cross_over(mutant_vector, trex, crossover_rate)\n",
    "              selection(new_candidate, trex, population, cost_function)\n",
    "    values = [cost_function(trex) for trex in population]\n",
    "    idx = np.argsort(values)[0]\n",
    "    return population[idx]\n"
   ]
  },
  {
   "cell_type": "markdown",
   "metadata": {
    "collapsed": false,
    "pycharm": {
     "name": "#%% md\n"
    }
   },
   "source": [
    "Choose a population size, number of generations, crossover rate, and differential weight, and set the cost function to the one your Differential Evolution expert converted for you, and then see how your algorithm performs!\n"
   ]
  },
  {
   "cell_type": "code",
   "execution_count": 89,
   "metadata": {
    "collapsed": false,
    "pycharm": {
     "is_executing": true,
     "name": "#%%\n"
    }
   },
   "outputs": [
    {
     "name": "stdout",
     "output_type": "stream",
     "text": [
      "Your algorithm output  [0.99, 29.54, 2.02, 6991.09, 95.89, 9.68, 99.92]\n",
      "as the best evolved T-Rex, with a fitness score of  -2452.2370957095704\n"
     ]
    }
   ],
   "source": [
    "'''\n",
    "Call your de_algorithm, defining the parameters as you wish, with cost_function set to cost_function to call the converted function from above.\n",
    "Call your combi_fitness function to see how well this Rex performs in its environment.\n",
    "'''\n",
    "crossover_rate = 0.8\n",
    "differential_weight = 0.5\n",
    "best_rex = de_algorithm(100, 50, crossover_rate, differential_weight, cost_function)\n",
    "rex_score = cost_function(best_rex)\n",
    "\n",
    "print('Your algorithm output ', best_rex) \n",
    "print('as the best evolved T-Rex, with a fitness score of ', rex_score )"
   ]
  },
  {
   "cell_type": "markdown",
   "metadata": {
    "pycharm": {
     "name": "#%% md\n"
    }
   },
   "source": [
    "## Task 6: Write Up!\n",
    "\n",
    "Whew! That was a lot of work! Well, for the algorithm anyway. A representative from a company you've forgotten the name of right now (was it EnGin? InTen? Oh, nevermind) has reached out to you and asked for a report on your observations from your experiment, for reasons they'd rather not disclose apparently. They seem particularly interested in how changing various parameters might affect the process. Go ahead and play around with your algorithm a bit (perhaps you'd like to try out different population sizes, crossover rate and differential weight values, or even tweak your fitness functions?) to generate an answer for them. Turns out your lab has an email template you can use, so all you'll need to do is plug in your observations and hope they're not used for anything...potentially problematic.\n",
    "\n",
    "(Hint - Your lab recently genetically engineered species #5698, which your team is currently calling \"Bonus Point.\" A few of those might have escaped, but if you come up with a sufficiently interesting name for yourself in the report, they might just decide to come back and help you out.)"
   ]
  },
  {
   "cell_type": "markdown",
   "metadata": {
    "pycharm": {
     "name": "#%% md\n"
    }
   },
   "source": [
    "From: BestResearcherEver (bre@uni-osnabrueck.de)\n",
    "To: NotAMadScientist (research@ingen.jp)\n",
    "\n",
    "Dear InGen Research Team,\n",
    "\n",
    "Pursuant to your request for further data on the effect of parameter manipulation in our Differential Evolution experiment with species #1475, Tyrannosaurus rex, the following is a brief report on my observations:\n",
    "\n",
    "**population size:** it didn't change the results, if the size was high or low.\n",
    "Sincerely,\n",
    "BestResearcherEver"
   ]
  },
  {
   "cell_type": "markdown",
   "metadata": {
    "collapsed": false
   },
   "source": [
    "## Just For Fun - Dino Dating\n",
    "\n",
    "So you think you can design the best dinosaur, eh? Well, you've created a pretty hearty T-Rex there, but it won't get very far in the evolution game if no one wants to take it out to the dance. Let's see how your top predator survives its next big challenge, Germany's latest top hit prehistoric TV show - DinoDating!\n",
    "\n",
    "This section is just for fun. You don't actually have to code anything, just plug in your best Rex and see how it fares.\n",
    "\n",
    "Normally the judges don't like to share their scoring criteria, but since this is an academic exercise, they bent the rules this once.\n",
    "\n",
    "(75 - 100) - Ooh La La!\n",
    "(50 - 74) - Dateable\n",
    "(25 - 49) - In The Right Clothes, Maybe...\n",
    "(0 - 24) - Well, no takers now, but take some time to become your best self and try again later. :)"
   ]
  },
  {
   "cell_type": "code",
   "execution_count": 58,
   "metadata": {
    "collapsed": false,
    "pycharm": {
     "name": "#%%\n"
    }
   },
   "outputs": [
    {
     "name": "stdout",
     "output_type": "stream",
     "text": [
      "Your top Rex scored  4.717320036287552  in Dino Dating!\n"
     ]
    }
   ],
   "source": [
    "from dino_dating import dating_fitness\n",
    "\n",
    "score = dating_fitness(best_rex)\n",
    "\n",
    "print('Your top Rex scored ', score, ' in Dino Dating!')"
   ]
  },
  {
   "cell_type": "markdown",
   "metadata": {
    "collapsed": false,
    "pycharm": {
     "name": "#%% md\n"
    }
   },
   "source": [
    "## How Did You Do?\n",
    "\n",
    "This part is optional, but gives you a chance to see how well your algorithm functions. Your algorithm should output a Rex with a vector close to [1, 30, 8, 5000, 42, 7, 0] and a score close to 100."
   ]
  },
  {
   "cell_type": "code",
   "execution_count": 88,
   "metadata": {
    "collapsed": false,
    "pycharm": {
     "name": "#%%\n"
    }
   },
   "outputs": [
    {
     "name": "stdout",
     "output_type": "stream",
     "text": [
      "Your algorithm output  [1.0, 29.7, 7.16, 5024.6, 41.96, 6.96, 2.75] as the best individual, with a dating score of  51.67758036137354  . How did you do? :)\n"
     ]
    }
   ],
   "source": [
    "from dino_dating import dating_fitness\n",
    "\n",
    "dating_cost_function = lambda x:-dating_fitness(x)\n",
    "\n",
    "best_dater = de_algorithm(pop_size=100,generations=50,crossover_rate=0.8,differential_weight=0.5,cost_function=dating_cost_function)\n",
    "\n",
    "dater_score = dating_fitness(best_dater)\n",
    "\n",
    "print('Your algorithm output ', best_dater, 'as the best individual, with a dating score of ', dater_score, ' . How did you do? :)')"
   ]
  },
  {
   "cell_type": "code",
   "execution_count": null,
   "metadata": {},
   "outputs": [],
   "source": []
  }
 ],
 "metadata": {
  "interpreter": {
   "hash": "f9a96668ec8c2911c88d6b7f6fe084da01155dcfd01803aa1de2e0bec4aae6fc"
  },
  "kernelspec": {
   "display_name": "Python 3.8.13 ('connect')",
   "language": "python",
   "name": "python3"
  },
  "language_info": {
   "codemirror_mode": {
    "name": "ipython",
    "version": 3
   },
   "file_extension": ".py",
   "mimetype": "text/x-python",
   "name": "python",
   "nbconvert_exporter": "python",
   "pygments_lexer": "ipython3",
   "version": "3.8.13"
  }
 },
 "nbformat": 4,
 "nbformat_minor": 4
}
